{
 "cells": [
  {
   "cell_type": "markdown",
   "metadata": {},
   "source": [
    "# Gesture Recognition\n",
    "In this group project, you are going to build a 3D Conv model that will be able to predict the 5 gestures correctly. Please import the following libraries to get started. Once you have completed the code you can download the notebook for making a submission."
   ]
  },
  {
   "cell_type": "code",
   "execution_count": 1,
   "metadata": {},
   "outputs": [],
   "source": [
    "import numpy as np\n",
    "import os\n",
    "from imageio import imread\n",
    "from skimage.transform import resize\n",
    "import datetime\n",
    "import os"
   ]
  },
  {
   "cell_type": "markdown",
   "metadata": {},
   "source": [
    "We set the random seed so that the results don't vary drastically."
   ]
  },
  {
   "cell_type": "code",
   "execution_count": 2,
   "metadata": {},
   "outputs": [],
   "source": [
    "np.random.seed(30)\n",
    "import random as rn\n",
    "rn.seed(30)\n",
    "from tensorflow import keras\n",
    "import tensorflow as tf\n",
    "tf.random.set_seed(30)"
   ]
  },
  {
   "cell_type": "markdown",
   "metadata": {},
   "source": [
    "In this block, you read the folder names for training and validation. You also set the `batch_size` here. Note that you set the batch size in such a way that you are able to use the GPU in full capacity. You keep increasing the batch size until the machine throws an error."
   ]
  },
  {
   "cell_type": "code",
   "execution_count": 3,
   "metadata": {},
   "outputs": [],
   "source": [
    "train_doc = np.random.permutation(open('C:/Users/vineetp/Desktop/ml_ai/gitrepo/gesture_final/Project_data/Project_data/train.csv').readlines())\n",
    "val_doc = np.random.permutation(open('C:/Users/vineetp/Desktop/ml_ai/gitrepo/gesture_final/Project_data/Project_data/val.csv').readlines())\n",
    "batch_size = 39"
   ]
  },
  {
   "cell_type": "code",
   "execution_count": 4,
   "metadata": {},
   "outputs": [],
   "source": [
    "def image_specifications(nb_frames, x, y):\n",
    "    return [np.round(np.linspace(0, 29, nb_frames)).astype('int'), x, y]\n",
    "\n",
    "\n",
    "img_specs = image_specifications(20, 100, 100)"
   ]
  },
  {
   "cell_type": "markdown",
   "metadata": {},
   "source": [
    "## Generator\n",
    "This is one of the most important part of the code. The overall structure of the generator has been given. In the generator, you are going to preprocess the images as you have images of 2 different dimensions as well as create a batch of video frames. You have to experiment with `img_idx`, `y`,`z` and normalization such that you get high accuracy."
   ]
  },
  {
   "cell_type": "code",
   "execution_count": 5,
   "metadata": {},
   "outputs": [],
   "source": [
    "def get_batch_labels_and_data(source_path, t, batch, batch_size, img_specs):\n",
    "    x, y, z = len(img_specs[0]), img_specs[1], img_specs[2]\n",
    "    img_idx = img_specs[0]  # create a list of image numbers you want to use for a particular video\n",
    "    batch_data = np.zeros((batch_size, x, y, z, 3))  # x is the number of images you use for each video, (y,z) is the final size of the input images and 3 is the number of channels RGB\n",
    "    batch_labels = np.zeros((batch_size, 5))  # batch_labels is the one hot representation of the output\n",
    "    \n",
    "    for folder in range(batch_size):  # iterate over the batch_size\n",
    "        imgs = os.listdir('{0}/{1}'.format(source_path, t[folder + (batch * batch_size)].split(';')[0]))  # read all the images in the folder\n",
    "        \n",
    "        for idx, item in enumerate(img_idx):  # Iterate iver the frames/images of a folder to read them in\n",
    "            image = imread('{0}/{1}/{2}'.format(source_path, t[folder + (batch * batch_size)].strip().split(';')[0], imgs[item])).astype(np.float32)\n",
    "            \n",
    "            #crop the images and resize them. Note that the images are of 2 different shape \n",
    "            #and the conv3D will throw error if the inputs in a batch have different shapes\n",
    "            \n",
    "            if image.shape[0] != image.shape[1]:\n",
    "                image = image[:120, 20:140]\n",
    "            image = resize(image, (y, z))\n",
    "            \n",
    "            batch_data[folder, idx, :, :, 0] = image[:, :, 0] / 255.0  # normalise and feed in the image\n",
    "            batch_data[folder, idx, :, :, 1] = image[:, :, 1] / 255.0  # normalise and feed in the image\n",
    "            batch_data[folder, idx, :, :, 2] = image[:, :, 2] / 255.0  # normalise and feed in the image\n",
    "        \n",
    "        batch_labels[folder, int(t[folder + (batch * batch_size)].strip().split(';')[2])] = 1\n",
    "    \n",
    "    return batch_data, batch_labels\n",
    "\n",
    "\n",
    "def generator(source_path, folder_list, batch_size, img_specs=img_specs):\n",
    "    print(f\"Source Path: {source_path}; Batch Size: {batch_size}\")\n",
    "    while True:\n",
    "        t = np.random.permutation(folder_list)\n",
    "        num_batches = int(len(folder_list) / batch_size)\n",
    "        for batch in range(num_batches):  # we iterate over the number of batches\n",
    "            yield get_batch_labels_and_data(source_path, t, batch, batch_size, img_specs)  # you yield the batch_data and the batch_labels, remember what does yield do\n",
    "        \n",
    "        # write the code for the remaining data points which are left after full batches\n",
    "        if len(folder_list) % batch_size != 0:\n",
    "            batch_size = len(folder_list) % batch_size\n",
    "            yield get_batch_labels_and_data(source_path, t, batch, batch_size, img_specs)  # you yield the batch_data and the batch_labels, remember what does yield do"
   ]
  },
  {
   "cell_type": "markdown",
   "metadata": {},
   "source": [
    "Note here that a video is represented above in the generator as (number of images, height, width, number of channels). Take this into consideration while creating the model architecture."
   ]
  },
  {
   "cell_type": "code",
   "execution_count": 6,
   "metadata": {},
   "outputs": [
    {
     "name": "stdout",
     "output_type": "stream",
     "text": [
      "# training sequences: 663\n",
      "# validation sequences: 100\n",
      "# epcohs: 20\n"
     ]
    }
   ],
   "source": [
    "curr_dt_time = datetime.datetime.now()\n",
    "train_path = 'C:/Users/vineetp/Desktop/ml_ai/gitrepo/gesture_final/Project_data/Project_data/train'\n",
    "val_path = 'C:/Users/vineetp/Desktop/ml_ai/gitrepo/gesture_final/Project_data/Project_data/val'\n",
    "num_train_sequences = len(train_doc)\n",
    "print(f\"# training sequences: {num_train_sequences}\")\n",
    "num_val_sequences = len(val_doc)\n",
    "print(f\"# validation sequences: {num_val_sequences}\")\n",
    "num_epochs = 20 # choose the number of epochs\n",
    "print(f\"# epcohs: {num_epochs}\")"
   ]
  },
  {
   "cell_type": "markdown",
   "metadata": {},
   "source": [
    "## Model\n",
    "Here you make the model using different functionalities that Keras provides. Remember to use `Conv3D` and `MaxPooling3D` and not `Conv2D` and `Maxpooling2D` for a 3D convolution model. You would want to use `TimeDistributed` while building a Conv2D + RNN model. Also remember that the last layer is the softmax. Design the network in such a way that the model is able to give good accuracy on the least number of parameters so that it can fit in the memory of the webcam."
   ]
  },
  {
   "cell_type": "code",
   "execution_count": 7,
   "metadata": {},
   "outputs": [],
   "source": [
    "from tensorflow.keras.models import Sequential\n",
    "\n",
    "from tensorflow.keras.layers import Activation\n",
    "from tensorflow.keras.layers import BatchNormalization\n",
    "from tensorflow.keras.layers import Conv2D\n",
    "from tensorflow.keras.layers import Conv3D\n",
    "from tensorflow.keras.layers import ConvLSTM2D\n",
    "from tensorflow.keras.layers import Dense\n",
    "from tensorflow.keras.layers import Dropout\n",
    "from tensorflow.keras.layers import Flatten\n",
    "from tensorflow.keras.layers import GlobalAveragePooling2D\n",
    "from tensorflow.keras.layers import GlobalAveragePooling3D\n",
    "from tensorflow.keras.layers import GRU\n",
    "from tensorflow.keras.layers import LSTM\n",
    "from tensorflow.keras.layers import MaxPooling3D, MaxPooling2D\n",
    "from tensorflow.keras.layers import TimeDistributed\n",
    "\n",
    "from tensorflow.keras.callbacks import ModelCheckpoint\n",
    "from tensorflow.keras.callbacks import ReduceLROnPlateau\n",
    "\n",
    "from tensorflow.keras import optimizers"
   ]
  },
  {
   "cell_type": "code",
   "execution_count": 8,
   "metadata": {},
   "outputs": [],
   "source": [
    "input_shape = (len(img_specs[0]), img_specs[1], img_specs[2], 3)"
   ]
  },
  {
   "cell_type": "markdown",
   "metadata": {},
   "source": [
    "### Model - 1:"
   ]
  },
  {
   "cell_type": "code",
   "execution_count": 9,
   "metadata": {},
   "outputs": [],
   "source": [
    "# write your model here\n",
    "\n",
    "# model 1 -- base model\n",
    "\n",
    "# model = Sequential()\n",
    "\n",
    "# model.add(Conv3D(32, kernel_size=3, activation='relu', input_shape=input_shape))\n",
    "\n",
    "# model.add(Conv3D(63, kernel_size=3, activation='relu'))\n",
    "# model.add(MaxPooling3D(pool_size=2))\n",
    "\n",
    "# model.add(Flatten())\n",
    "# model.add(Dense(256, activation='relu'))\n",
    "# model.add(Dense(5, activation='softmax'))"
   ]
  },
  {
   "cell_type": "markdown",
   "metadata": {},
   "source": [
    "Number of Epochs: 20 <br />\n",
    "Train accuracy: 0.20 and Validation accuracy: 0.41 <br />\n",
    "The model is unable to learn, adding more layers to the model"
   ]
  },
  {
   "cell_type": "markdown",
   "metadata": {},
   "source": [
    "### Model - 2"
   ]
  },
  {
   "cell_type": "code",
   "execution_count": 10,
   "metadata": {},
   "outputs": [],
   "source": [
    "# model 2 -- increasing the number of layers\n",
    "\n",
    "# model = Sequential()\n",
    "\n",
    "# model.add(Conv3D(16, (3, 3, 3), padding='same',input_shape=input_shape))\n",
    "# model.add(Activation('relu'))\n",
    "# model.add(BatchNormalization())\n",
    "        \n",
    "# model.add(Conv3D(16, (3, 3, 3), padding='same',input_shape=input_shape))\n",
    "# model.add(Activation('relu'))\n",
    "# model.add(BatchNormalization())\n",
    "# model.add(MaxPooling3D(pool_size=(2, 2, 2)))\n",
    "\n",
    "# model.add(Conv3D(32, (3, 3, 3), padding='same'))\n",
    "# model.add(Activation('relu'))\n",
    "# model.add(BatchNormalization())\n",
    "        \n",
    "# model.add(Conv3D(32, (3, 3, 3), padding='same'))\n",
    "# model.add(Activation('relu'))\n",
    "# model.add(BatchNormalization())\n",
    "# model.add(MaxPooling3D(pool_size=(2, 2, 2)))\n",
    "\n",
    "# model.add(Conv3D(64, (3, 3, 3), padding='same'))\n",
    "# model.add(Activation('relu'))\n",
    "# model.add(BatchNormalization())\n",
    "        \n",
    "# model.add(Conv3D(64, (3, 3, 3), padding='same'))\n",
    "# model.add(Activation('relu'))\n",
    "# model.add(BatchNormalization())\n",
    "# model.add(MaxPooling3D(pool_size=(2, 2, 2)))\n",
    "\n",
    "# model.add(Conv3D(128, (3, 3, 3), padding='same'))\n",
    "# model.add(Activation('relu'))\n",
    "# model.add(BatchNormalization())\n",
    "        \n",
    "# model.add(Conv3D(128, (3, 3, 3), padding='same'))\n",
    "# model.add(Activation('relu'))\n",
    "# model.add(BatchNormalization())\n",
    "# model.add(MaxPooling3D(pool_size=(2, 2, 2)))\n",
    "\n",
    "# model.add(Flatten())\n",
    "# model.add(Dense(64, activation='relu'))\n",
    "# model.add(BatchNormalization())\n",
    "# model.add(Dropout(0.25))\n",
    "\n",
    "# model.add(Dense(63, activation='relu'))\n",
    "# model.add(BatchNormalization())\n",
    "# model.add(Dropout(0.25))\n",
    "\n",
    "# model.add(Dense(5, activation='softmax'))"
   ]
  },
  {
   "cell_type": "markdown",
   "metadata": {},
   "source": [
    "Number of Epochs: 20<br />\n",
    "Train accuracy: 0.61 and Validation accuracy: 0.75 <br />\n",
    "The train accuracy and the validation accuracy are sub-par, reducing some of the parameters."
   ]
  },
  {
   "cell_type": "markdown",
   "metadata": {},
   "source": [
    "### Model - 3"
   ]
  },
  {
   "cell_type": "code",
   "execution_count": 11,
   "metadata": {},
   "outputs": [],
   "source": [
    "# model 3 -- reducing the number of parameters\n",
    "\n",
    "# model = Sequential()\n",
    "\n",
    "# model.add(Conv3D(16, (3, 3, 3), padding='same',input_shape=input_shape))\n",
    "# model.add(Activation('relu'))\n",
    "# model.add(BatchNormalization())\n",
    "# model.add(MaxPooling3D(pool_size=(2, 2, 2)))\n",
    "\n",
    "# model.add(Conv3D(32, (2, 2, 2), padding='same'))\n",
    "# model.add(Activation('relu'))\n",
    "# model.add(BatchNormalization())\n",
    "# model.add(MaxPooling3D(pool_size=(2, 2, 2)))\n",
    "\n",
    "# model.add(Conv3D(64, (2, 2, 2), padding='same'))\n",
    "# model.add(Activation('relu'))\n",
    "# model.add(BatchNormalization())\n",
    "# model.add(MaxPooling3D(pool_size=(2, 2, 2)))\n",
    "\n",
    "# model.add(Conv3D(128, (2, 2, 2), padding='same'))\n",
    "# model.add(Activation('relu'))\n",
    "# model.add(BatchNormalization())\n",
    "# model.add(MaxPooling3D(pool_size=(2, 2, 2)))\n",
    "        \n",
    "# model.add(Flatten())\n",
    "# model.add(Dense(64,activation='relu'))\n",
    "# model.add(BatchNormalization())\n",
    "# model.add(Dropout(0.25))\n",
    "\n",
    "# model.add(Dense(64, activation='relu'))\n",
    "# model.add(BatchNormalization())\n",
    "# model.add(Dropout(0.25))\n",
    "\n",
    "# model.add(Dense(5, activation='softmax'))"
   ]
  },
  {
   "cell_type": "markdown",
   "metadata": {},
   "source": [
    "Number of Epcohs: 20 <br />\n",
    "Train accuracuy: 0.97 and Validation accuracy: 0.83 <br />\n",
    "Model seems to be overfitting, reducing the number of parameters even further."
   ]
  },
  {
   "cell_type": "markdown",
   "metadata": {},
   "source": [
    "### Model - 4"
   ]
  },
  {
   "cell_type": "code",
   "execution_count": 12,
   "metadata": {},
   "outputs": [],
   "source": [
    "# model 4 -- reducing even more trainable parameters\n",
    "\n",
    "# model = Sequential()\n",
    "\n",
    "# model.add(Conv3D(16, (3, 3, 3), padding='same',input_shape=input_shape))\n",
    "# model.add(Activation('relu'))\n",
    "# model.add(BatchNormalization())\n",
    "# model.add(MaxPooling3D(pool_size=(2, 2, 2)))\n",
    "\n",
    "# model.add(Conv3D(32, (3, 3, 3), padding='same'))\n",
    "# model.add(Activation('relu'))\n",
    "# model.add(BatchNormalization())\n",
    "# model.add(MaxPooling3D(pool_size=(2, 2, 2)))\n",
    "\n",
    "# model.add(Conv3D(64, (2, 2, 2), padding='same'))\n",
    "# model.add(Activation('relu'))\n",
    "# model.add(BatchNormalization())\n",
    "# model.add(MaxPooling3D(pool_size=(2, 2, 2)))\n",
    "\n",
    "# model.add(Conv3D(128, (2, 2, 2), padding='same'))\n",
    "# model.add(Activation('relu'))\n",
    "# model.add(BatchNormalization())\n",
    "# model.add(MaxPooling3D(pool_size=(2, 2, 2)))\n",
    "        \n",
    "# model.add(Flatten())\n",
    "# model.add(Dense(64, activation='relu'))\n",
    "# model.add(BatchNormalization())\n",
    "# model.add(Dropout(0.25))\n",
    "\n",
    "# model.add(Dense(64, activation='relu'))\n",
    "# model.add(BatchNormalization())\n",
    "# model.add(Dropout(0.25))\n",
    "\n",
    "# model.add(Dense(5, activation='softmax'))"
   ]
  },
  {
   "cell_type": "markdown",
   "metadata": {},
   "source": [
    "Number of Epochs: 20 <br />\n",
    "Train accuracuy: 0.17 and Validation accuracy: 0.5 <br />\n",
    "Reducing the number of parameters too much has lead a model thats significanlty underfitting. <br />\n",
    "Increasing the number of epochs from 20 to 40 and creating a new model as well as removing the Dropout layers."
   ]
  },
  {
   "cell_type": "markdown",
   "metadata": {},
   "source": [
    "### Model - 5"
   ]
  },
  {
   "cell_type": "code",
   "execution_count": 13,
   "metadata": {},
   "outputs": [],
   "source": [
    "# model - 5 -- Increasing the number of parameters\n",
    "\n",
    "# model = Sequential()\n",
    "\n",
    "# model.add(Conv3D(32, kernel_size=3, activation='relu', input_shape=input_shape))\n",
    "# model.add(Conv3D(64, kernel_size=3, activation='relu'))\n",
    "# model.add(MaxPooling3D(pool_size=(2, 2, 2)))\n",
    "# model.add(BatchNormalization())\n",
    "\n",
    "# model.add(Conv3D(128, kernel_size=3, activation='relu'))\n",
    "# model.add(MaxPooling3D(pool_size=(1, 2, 2)))\n",
    "# model.add(BatchNormalization())\n",
    "\n",
    "# model.add(Conv3D(256, kernel_size=(1, 3, 3), activation='relu'))\n",
    "# model.add(MaxPooling3D(pool_size=(1, 2, 2)))\n",
    "# model.add(BatchNormalization())\n",
    "\n",
    "# model.add(Conv3D(512, kernel_size=(1, 3, 3), activation='relu'))\n",
    "# model.add(Conv3D(512, kernel_size=(1, 3, 3), activation='relu'))\n",
    "# model.add(MaxPooling3D(pool_size=(1, 2, 2)))\n",
    "# model.add(BatchNormalization())\n",
    "\n",
    "# model.add(Flatten())\n",
    "# model.add(Dense(512, activation='relu'))\n",
    "# model.add(BatchNormalization())\n",
    "# model.add(Dense(5, activation='softmax'))"
   ]
  },
  {
   "cell_type": "markdown",
   "metadata": {},
   "source": [
    "Number of Epochs: 40<br />\n",
    "Training accuracy: 1.00 and Validation accuracy: 0.91 <br />\n",
    "Model is clearly overfitting. Reducing the number of parameters and adding Dropout layers again."
   ]
  },
  {
   "cell_type": "markdown",
   "metadata": {},
   "source": [
    "### Model - 6"
   ]
  },
  {
   "cell_type": "code",
   "execution_count": 14,
   "metadata": {},
   "outputs": [],
   "source": [
    "# model - 6 -- Reducing number of parameters and re-introducing dropout layers\n",
    "\n",
    "# model = Sequential()\n",
    "\n",
    "# model.add(Conv3D(16, (5, 5, 5), activation='relu', input_shape=input_shape))\n",
    "# model.add(MaxPooling3D((2, 2, 2), padding='same'))\n",
    "# model.add(BatchNormalization())\n",
    "\n",
    "# model.add(Conv3D(32, (3, 3, 3), activation='relu'))\n",
    "# model.add(MaxPooling3D(pool_size=(1, 2, 2), padding='same'))\n",
    "# model.add(BatchNormalization())\n",
    "\n",
    "# model.add(Conv3D(64, (3, 3, 3), activation='relu'))\n",
    "# model.add(MaxPooling3D(pool_size=(1, 2, 2), padding='same'))\n",
    "# model.add(BatchNormalization())\n",
    "\n",
    "# model.add(Flatten())\n",
    "# model.add(Dense(128, activation='relu'))\n",
    "# model.add(BatchNormalization())\n",
    "# model.add(Dropout(0.2))\n",
    "\n",
    "# model.add(Dense(64, activation='relu'))\n",
    "# model.add(BatchNormalization())\n",
    "# model.add(Dropout(0.2))\n",
    "\n",
    "# model.add(Dense(5, activation='softmax'))"
   ]
  },
  {
   "cell_type": "markdown",
   "metadata": {},
   "source": [
    "Number of Epochs: 40 <br />\n",
    "Training accuracy: 0.99 and Validation accuracy: 1.00 <br />\n",
    "Model still seems to overfit on the data, even though the validation accuracy has increased significantly. <br />\n",
    "Increasing the number of Dropout layers, and using GlobalAveragePooling3D instead of Flatten."
   ]
  },
  {
   "cell_type": "markdown",
   "metadata": {},
   "source": [
    "### Model - 7"
   ]
  },
  {
   "cell_type": "code",
   "execution_count": 15,
   "metadata": {},
   "outputs": [],
   "source": [
    "# model - 7 -- Increasing the number of Droupout layers and replaing Flatten with GlobalAveragePooling3D\n",
    "\n",
    "# model = Sequential()\n",
    "\n",
    "# model.add(Conv3D(32, kernel_size=3, activation='relu', input_shape=input_shape))\n",
    "# model.add(Conv3D(64, kernel_size=3, activation='relu'))\n",
    "# model.add(MaxPooling3D(pool_size=(2, 2, 2)))\n",
    "# model.add(BatchNormalization())\n",
    "# model.add(Dropout(0.2))\n",
    "\n",
    "# model.add(Conv3D(128, kernel_size=3, activation='relu'))\n",
    "# model.add(MaxPooling3D(pool_size=(1, 2, 2)))\n",
    "# model.add(BatchNormalization())\n",
    "# model.add(Dropout(0.2))\n",
    "\n",
    "# model.add(Conv3D(256, kernel_size=(1, 3, 3), activation='relu'))\n",
    "# model.add(MaxPooling3D(pool_size=(1, 2, 2)))\n",
    "# model.add(BatchNormalization())\n",
    "# model.add(Dropout(0.2))\n",
    "\n",
    "# model.add(GlobalAveragePooling3D())\n",
    "# model.add(Dense(512, activation='relu'))\n",
    "# model.add(BatchNormalization())\n",
    "# model.add(Dense(5, activation='softmax'))"
   ]
  },
  {
   "cell_type": "markdown",
   "metadata": {},
   "source": [
    "Number of Epochs: 40<br />\n",
    "Train accuracy: 0.99 and Validation accuracy: 0.91 <br />\n",
    "Both the train and validation accuracy are in 0.9 range. <br />\n",
    "However with how close the train accuracy is to 1, trying different architectures as it's highly likely that the model is overfitting."
   ]
  },
  {
   "cell_type": "markdown",
   "metadata": {},
   "source": [
    "### Model - 8"
   ]
  },
  {
   "cell_type": "code",
   "execution_count": 16,
   "metadata": {},
   "outputs": [],
   "source": [
    "# model - 8 -- CNN with LSTM, reducing the number of epochs to 20\n",
    "\n",
    "# model = Sequential()\n",
    "\n",
    "# model.add(TimeDistributed(Conv2D(16, (3, 3) , padding='same', activation='relu'), input_shape=input_shape))\n",
    "# model.add(TimeDistributed(BatchNormalization()))\n",
    "# model.add(TimeDistributed(MaxPooling2D((2, 2))))\n",
    "        \n",
    "# model.add(TimeDistributed(Conv2D(32, (3, 3) , padding='same', activation='relu')))\n",
    "# model.add(TimeDistributed(BatchNormalization()))\n",
    "# model.add(TimeDistributed(MaxPooling2D((2, 2))))\n",
    "        \n",
    "# model.add(TimeDistributed(Conv2D(64, (3, 3) , padding='same', activation='relu')))\n",
    "# model.add(TimeDistributed(BatchNormalization()))\n",
    "# model.add(TimeDistributed(MaxPooling2D((2, 2))))\n",
    "        \n",
    "# model.add(TimeDistributed(Conv2D(128, (3, 3) , padding='same', activation='relu')))\n",
    "# model.add(TimeDistributed(BatchNormalization()))\n",
    "# model.add(TimeDistributed(MaxPooling2D((2, 2))))\n",
    "        \n",
    "# model.add(TimeDistributed(Conv2D(256, (3, 3) , padding='same', activation='relu')))\n",
    "# model.add(TimeDistributed(BatchNormalization()))\n",
    "# model.add(TimeDistributed(MaxPooling2D((2, 2))))\n",
    "\n",
    "# model.add(TimeDistributed(Flatten()))\n",
    "# model.add(LSTM(64))\n",
    "# model.add(Dropout(0.25))\n",
    "        \n",
    "# model.add(Dense(64,activation='relu'))\n",
    "# model.add(Dropout(0.25))\n",
    "        \n",
    "# model.add(Dense(5, activation='softmax'))"
   ]
  },
  {
   "cell_type": "markdown",
   "metadata": {},
   "source": [
    "Number of Epochs: 20 <br />\n",
    "Train accuracy: 0.50 and Validation accuracy: 0.66 <br />\n",
    "The accuracy of the model is sub-par. Trying a different architecture -> Conv2D with GRU"
   ]
  },
  {
   "cell_type": "markdown",
   "metadata": {},
   "source": [
    "### Model - 9"
   ]
  },
  {
   "cell_type": "code",
   "execution_count": 17,
   "metadata": {},
   "outputs": [],
   "source": [
    "# model - 9 -- TimeDistributed Conv2D + GRU\n",
    "\n",
    "# model = Sequential()\n",
    "\n",
    "# model.add(TimeDistributed(Conv2D(32, (3, 3), activation='relu'), input_shape=input_shape))\n",
    "# model.add(TimeDistributed(MaxPooling2D(2, 2)))\n",
    "# model.add(BatchNormalization())\n",
    "\n",
    "# model.add(TimeDistributed(Conv2D(64, (3, 3), activation='relu')))\n",
    "# model.add(TimeDistributed(MaxPooling2D(2, 2)))\n",
    "# model.add(BatchNormalization())\n",
    "\n",
    "# model.add(TimeDistributed(GlobalAveragePooling2D()))\n",
    "# model.add(TimeDistributed(Dense(63, activation='relu')))\n",
    "# model.add(BatchNormalization())\n",
    "\n",
    "# model.add(GRU(128))\n",
    "# model.add(BatchNormalization())\n",
    "# model.add(Dense(5, activation='relu'))"
   ]
  },
  {
   "cell_type": "markdown",
   "metadata": {},
   "source": [
    "Number of Epochs: 40 <br />\n",
    "Train accuracy: 0.96 and Validation accuracy: 0.81 <br />\n",
    "The difference between the train and validation accuracy is significant, adding Dropout layers to the model."
   ]
  },
  {
   "cell_type": "markdown",
   "metadata": {},
   "source": [
    "### Model - 10"
   ]
  },
  {
   "cell_type": "code",
   "execution_count": 18,
   "metadata": {},
   "outputs": [],
   "source": [
    "# model - 10 -- TimeDistributed Conv2D + GRU\n",
    "\n",
    "# model = Sequential()\n",
    "\n",
    "# model.add(TimeDistributed(Conv2D(32, (3, 3), activation='relu'), input_shape=input_shape))\n",
    "# model.add(TimeDistributed(MaxPooling2D(2, 2)))\n",
    "# model.add(BatchNormalization())\n",
    "\n",
    "# model.add(TimeDistributed(Conv2D(64, (3, 3), activation='relu')))\n",
    "# model.add(TimeDistributed(MaxPooling2D(2, 2)))\n",
    "# model.add(BatchNormalization())\n",
    "\n",
    "# model.add(TimeDistributed(GlobalAveragePooling2D()))\n",
    "# model.add(TimeDistributed(Dense(63, activation='relu')))\n",
    "# model.add(BatchNormalization())\n",
    "# model.add(Dropout(0.2))\n",
    "\n",
    "# model.add(GRU(128))\n",
    "# model.add(BatchNormalization())\n",
    "# model.add(Dense(5, activation='relu'))"
   ]
  },
  {
   "cell_type": "markdown",
   "metadata": {},
   "source": [
    "Number of Epochs: 40 <br />\n",
    "Train accuracy: 0.86 and Validation accuracy: 0.58 <br />\n",
    "Changing the model to TimeDistributed Conv2D with GlobalAveragePooling3D, increasing the number of epochs to 50."
   ]
  },
  {
   "cell_type": "markdown",
   "metadata": {},
   "source": [
    "### Model - 11"
   ]
  },
  {
   "cell_type": "code",
   "execution_count": 19,
   "metadata": {},
   "outputs": [],
   "source": [
    "# model - 11 -- TimeDistributed Conv2D with GlobalAvreagePooling3D\n",
    "\n",
    "# model = Sequential()\n",
    "\n",
    "# model.add(TimeDistributed(Conv2D(32, (3, 3), activation='relu'), input_shape=input_shape))\n",
    "# model.add(TimeDistributed(MaxPooling2D(2, 2)))\n",
    "# model.add(BatchNormalization())\n",
    "\n",
    "# model.add(TimeDistributed(Conv2D(64, (3, 3), activation='relu')))\n",
    "# model.add(TimeDistributed(MaxPooling2D(2, 2)))\n",
    "# model.add(BatchNormalization())\n",
    "\n",
    "# model.add(TimeDistributed(Conv2D(128, (3, 3), activation='relu')))\n",
    "# model.add(TimeDistributed(MaxPooling2D(2, 2)))\n",
    "# model.add(BatchNormalization())\n",
    "\n",
    "# model.add(GlobalAveragePooling3D())\n",
    "# model.add(Dense(256, activation='relu'))\n",
    "# model.add(BatchNormalization())\n",
    "# model.add(Dense(5, activation='softmax'))"
   ]
  },
  {
   "cell_type": "markdown",
   "metadata": {},
   "source": [
    "Epochs: 50 <br />\n",
    "Train accuracy: 0.99 and Validation accuracy: 0.91 <br />\n",
    "Both the train and validation accuracy are in the .9 range <br />\n",
    "However with how close the Train accuracy is close to 1 the model is likely overfitting. <br />\n",
    "Introducing Dropout layers to Model - 10, keeping the number of epochs same."
   ]
  },
  {
   "cell_type": "markdown",
   "metadata": {},
   "source": [
    "### Model - 12 - Final Model"
   ]
  },
  {
   "cell_type": "code",
   "execution_count": 20,
   "metadata": {},
   "outputs": [],
   "source": [
    "model = Sequential()\n",
    "\n",
    "model.add(TimeDistributed(Conv2D(32, (3, 3), activation='relu'), input_shape=input_shape))\n",
    "model.add(TimeDistributed(MaxPooling2D(2, 2)))\n",
    "model.add(BatchNormalization())\n",
    "\n",
    "model.add(TimeDistributed(Conv2D(64, (3, 3), activation='relu')))\n",
    "model.add(TimeDistributed(MaxPooling2D(2, 2)))\n",
    "model.add(BatchNormalization())\n",
    "model.add(Dropout(0.25))\n",
    "\n",
    "model.add(TimeDistributed(Conv2D(128, (3, 3), activation='relu')))\n",
    "model.add(TimeDistributed(MaxPooling2D(2, 2)))\n",
    "model.add(BatchNormalization())\n",
    "model.add(Dropout(0.25))\n",
    "\n",
    "model.add(GlobalAveragePooling3D())\n",
    "model.add(Dense(256, activation='relu'))\n",
    "model.add(BatchNormalization())\n",
    "model.add(Dropout(0.5))\n",
    "model.add(Dense(5, activation='softmax'))"
   ]
  },
  {
   "cell_type": "markdown",
   "metadata": {},
   "source": [
    "Number of Epochs: 50 <br />\n",
    "Train accuracy: 0.93 and Validation Accuracy = 0.91 <br />\n",
    "Both the train and validation accuracy are in the range of .9 <br />\n",
    "As well as the difference in the accuracies for the train and validation set is not too significant. <br />\n",
    "Selecting __Model - 12__ (TimeDistributed Conv2D with GlobalAveragePooling3D and Dropouts)."
   ]
  },
  {
   "cell_type": "markdown",
   "metadata": {},
   "source": [
    "Now that you have written the model, the next step is to `compile` the model. When you print the `summary` of the model, you'll see the total number of parameters you have to train."
   ]
  },
  {
   "cell_type": "code",
   "execution_count": 21,
   "metadata": {},
   "outputs": [
    {
     "name": "stderr",
     "output_type": "stream",
     "text": [
      "WARNING:absl:`lr` is deprecated in Keras optimizer, please use `learning_rate` or use the legacy optimizer, e.g.,tf.keras.optimizers.legacy.Adam.\n"
     ]
    },
    {
     "name": "stdout",
     "output_type": "stream",
     "text": [
      "Model: \"sequential\"\n",
      "_________________________________________________________________\n",
      " Layer (type)                Output Shape              Param #   \n",
      "=================================================================\n",
      " time_distributed (TimeDistr  (None, 20, 98, 98, 32)   896       \n",
      " ibuted)                                                         \n",
      "                                                                 \n",
      " time_distributed_1 (TimeDis  (None, 20, 49, 49, 32)   0         \n",
      " tributed)                                                       \n",
      "                                                                 \n",
      " batch_normalization (BatchN  (None, 20, 49, 49, 32)   128       \n",
      " ormalization)                                                   \n",
      "                                                                 \n",
      " time_distributed_2 (TimeDis  (None, 20, 47, 47, 64)   18496     \n",
      " tributed)                                                       \n",
      "                                                                 \n",
      " time_distributed_3 (TimeDis  (None, 20, 23, 23, 64)   0         \n",
      " tributed)                                                       \n",
      "                                                                 \n",
      " batch_normalization_1 (Batc  (None, 20, 23, 23, 64)   256       \n",
      " hNormalization)                                                 \n",
      "                                                                 \n",
      " dropout (Dropout)           (None, 20, 23, 23, 64)    0         \n",
      "                                                                 \n",
      " time_distributed_4 (TimeDis  (None, 20, 21, 21, 128)  73856     \n",
      " tributed)                                                       \n",
      "                                                                 \n",
      " time_distributed_5 (TimeDis  (None, 20, 10, 10, 128)  0         \n",
      " tributed)                                                       \n",
      "                                                                 \n",
      " batch_normalization_2 (Batc  (None, 20, 10, 10, 128)  512       \n",
      " hNormalization)                                                 \n",
      "                                                                 \n",
      " dropout_1 (Dropout)         (None, 20, 10, 10, 128)   0         \n",
      "                                                                 \n",
      " global_average_pooling3d (G  (None, 128)              0         \n",
      " lobalAveragePooling3D)                                          \n",
      "                                                                 \n",
      " dense (Dense)               (None, 256)               33024     \n",
      "                                                                 \n",
      " batch_normalization_3 (Batc  (None, 256)              1024      \n",
      " hNormalization)                                                 \n",
      "                                                                 \n",
      " dropout_2 (Dropout)         (None, 256)               0         \n",
      "                                                                 \n",
      " dense_1 (Dense)             (None, 5)                 1285      \n",
      "                                                                 \n",
      "=================================================================\n",
      "Total params: 129,477\n",
      "Trainable params: 128,517\n",
      "Non-trainable params: 960\n",
      "_________________________________________________________________\n",
      "None\n"
     ]
    }
   ],
   "source": [
    "optimiser = optimizers.Adam(lr=0.01)  # write your optimizer\n",
    "model.compile(optimizer=optimiser, loss='categorical_crossentropy', metrics=['categorical_accuracy'])\n",
    "print(model.summary())"
   ]
  },
  {
   "cell_type": "markdown",
   "metadata": {},
   "source": [
    "Let us create the `train_generator` and the `val_generator` which will be used in `.fit_generator`."
   ]
  },
  {
   "cell_type": "code",
   "execution_count": 22,
   "metadata": {},
   "outputs": [],
   "source": [
    "train_generator = generator(train_path, train_doc, batch_size)\n",
    "val_generator = generator(val_path, val_doc, batch_size)"
   ]
  },
  {
   "cell_type": "code",
   "execution_count": 23,
   "metadata": {},
   "outputs": [],
   "source": [
    "model_name = 'model_init_{}/'.format(str(curr_dt_time).replace(' ', '').replace(':', '_'))\n",
    "    \n",
    "if not os.path.exists(model_name):\n",
    "    os.mkdir(model_name)\n",
    "        \n",
    "filepath = model_name + 'model-{epoch:05d}-{loss:.5f}-{categorical_accuracy:.5f}-{val_loss:.5f}-{val_categorical_accuracy:.5f}.h5'\n",
    "\n",
    "checkpoint = ModelCheckpoint(filepath,\n",
    "                             monitor='val_loss',\n",
    "                             verbose=1,\n",
    "                             save_best_only=False,\n",
    "                             save_weights_only=False,\n",
    "                             mode='auto',\n",
    "                             save_freq='epoch')\n",
    "\n",
    "LR = ReduceLROnPlateau(monitor='val_loss', factor=0.2, patience=5, min_lr=0.001, verbose=1)  # write the REducelronplateau code here\n",
    "\n",
    "callbacks_list = [checkpoint, LR]"
   ]
  },
  {
   "cell_type": "markdown",
   "metadata": {},
   "source": [
    "The `steps_per_epoch` and `validation_steps` are used by `fit` method to decide the number of next() calls it need to make."
   ]
  },
  {
   "cell_type": "code",
   "execution_count": 24,
   "metadata": {},
   "outputs": [],
   "source": [
    "if (num_train_sequences%batch_size) == 0:\n",
    "    steps_per_epoch = int(num_train_sequences/batch_size)\n",
    "else:\n",
    "    steps_per_epoch = (num_train_sequences//batch_size) + 1\n",
    "\n",
    "if (num_val_sequences%batch_size) == 0:\n",
    "    validation_steps = int(num_val_sequences/batch_size)\n",
    "else:\n",
    "    validation_steps = (num_val_sequences//batch_size) + 1"
   ]
  },
  {
   "cell_type": "markdown",
   "metadata": {},
   "source": [
    "Let us now fit the model. This will start training the model and with the help of the checkpoints, you'll be able to save the model at the end of each epoch."
   ]
  },
  {
   "cell_type": "code",
   "execution_count": 27,
   "metadata": {},
   "outputs": [
    {
     "name": "stdout",
     "output_type": "stream",
     "text": [
      "Epochs: 20\n"
     ]
    },
    {
     "name": "stderr",
     "output_type": "stream",
     "text": [
      "C:\\Users\\vineetp\\AppData\\Local\\Temp\\ipykernel_14624\\1471780817.py:11: DeprecationWarning: Starting with ImageIO v3 the behavior of this function will switch to that of iio.v3.imread. To keep the current behavior (and make this warning dissapear) use `import imageio.v2 as imageio` or call `imageio.v2.imread` directly.\n",
      "  image = imread('{0}/{1}/{2}'.format(source_path, t[folder + (batch * batch_size)].strip().split(';')[0], imgs[item])).astype(np.float32)\n"
     ]
    }
   ],
   "source": [
    "num_epochs =20\n",
    "print(f\"Epochs: {num_epochs}\")"
   ]
  },
  {
   "cell_type": "code",
   "execution_count": null,
   "metadata": {},
   "outputs": [
    {
     "name": "stderr",
     "output_type": "stream",
     "text": [
      "C:\\Users\\vineetp\\AppData\\Local\\Temp\\ipykernel_14624\\1471780817.py:11: DeprecationWarning: Starting with ImageIO v3 the behavior of this function will switch to that of iio.v3.imread. To keep the current behavior (and make this warning dissapear) use `import imageio.v2 as imageio` or call `imageio.v2.imread` directly.\n",
      "  image = imread('{0}/{1}/{2}'.format(source_path, t[folder + (batch * batch_size)].strip().split(';')[0], imgs[item])).astype(np.float32)\n"
     ]
    },
    {
     "name": "stdout",
     "output_type": "stream",
     "text": [
      "Epoch 1/20\n",
      "17/17 [==============================] - ETA: 0s - loss: 1.1170 - categorical_accuracy: 0.5913 \n",
      "Epoch 1: saving model to model_init_2023-08-1623_18_12.006935\\model-00001-1.11699-0.59125-1.70686-0.16667.h5\n",
      "17/17 [==============================] - 483s 30s/step - loss: 1.1170 - categorical_accuracy: 0.5913 - val_loss: 1.7069 - val_categorical_accuracy: 0.1667 - lr: 0.0010\n",
      "Epoch 2/20\n",
      "17/17 [==============================] - ETA: 0s - loss: 0.9714 - categorical_accuracy: 0.6591 \n",
      "Epoch 2: saving model to model_init_2023-08-1623_18_12.006935\\model-00002-0.97140-0.65913-1.62469-0.25000.h5\n",
      "17/17 [==============================] - 340s 21s/step - loss: 0.9714 - categorical_accuracy: 0.6591 - val_loss: 1.6247 - val_categorical_accuracy: 0.2500 - lr: 0.0010\n",
      "Epoch 3/20\n",
      "17/17 [==============================] - ETA: 0s - loss: 0.8838 - categorical_accuracy: 0.6863 \n",
      "Epoch 3: saving model to model_init_2023-08-1623_18_12.006935\\model-00003-0.88378-0.68627-1.82647-0.16667.h5\n",
      "17/17 [==============================] - 277s 17s/step - loss: 0.8838 - categorical_accuracy: 0.6863 - val_loss: 1.8265 - val_categorical_accuracy: 0.1667 - lr: 0.0010\n",
      "Epoch 4/20\n",
      "17/17 [==============================] - ETA: 0s - loss: 0.9009 - categorical_accuracy: 0.6983 \n",
      "Epoch 4: saving model to model_init_2023-08-1623_18_12.006935\\model-00004-0.90093-0.69834-2.18553-0.08333.h5\n",
      "17/17 [==============================] - 278s 17s/step - loss: 0.9009 - categorical_accuracy: 0.6983 - val_loss: 2.1855 - val_categorical_accuracy: 0.0833 - lr: 0.0010\n",
      "Epoch 5/20\n",
      " 6/17 [=========>....................] - ETA: 4:25 - loss: 0.8542 - categorical_accuracy: 0.6966"
     ]
    }
   ],
   "source": [
    "history = model.fit(train_generator, steps_per_epoch=steps_per_epoch, epochs=num_epochs, verbose=1, \n",
    "                    callbacks=callbacks_list, validation_data=val_generator, \n",
    "                    validation_steps=validation_steps, class_weight=None, workers=1, initial_epoch=0)"
   ]
  },
  {
   "cell_type": "code",
   "execution_count": null,
   "metadata": {},
   "outputs": [],
   "source": [
    "import matplotlib.pyplot as plt\n",
    "%matplotlib inline\n",
    "\n",
    "plt.figure(figsize=(20,6))\n",
    "ax1 = plt.subplot(121)\n",
    "ax1 = plt.plot(history.history['loss'])\n",
    "ax1 = plt.plot(history.history['val_loss'])\n",
    "plt.title('model loss')\n",
    "plt.ylabel('loss')\n",
    "plt.xlabel('epoch')\n",
    "plt.legend(['train', 'validation'], loc='lower left')\n",
    "ax2 = plt.subplot(122)\n",
    "ax2 = plt.plot(history.history['categorical_accuracy'])\n",
    "ax2 = plt.plot(history.history['val_categorical_accuracy'])\n",
    "plt.title('model accuracy')\n",
    "plt.ylabel('categorical_accuracy')\n",
    "plt.xlabel('epoch')\n",
    "plt.legend(['train', 'validation'], loc='lower left')"
   ]
  },
  {
   "cell_type": "code",
   "execution_count": null,
   "metadata": {},
   "outputs": [],
   "source": []
  }
 ],
 "metadata": {
  "kernelspec": {
   "display_name": "Python 3 (ipykernel)",
   "language": "python",
   "name": "python3"
  },
  "language_info": {
   "codemirror_mode": {
    "name": "ipython",
    "version": 3
   },
   "file_extension": ".py",
   "mimetype": "text/x-python",
   "name": "python",
   "nbconvert_exporter": "python",
   "pygments_lexer": "ipython3",
   "version": "3.9.13"
  }
 },
 "nbformat": 4,
 "nbformat_minor": 4
}
