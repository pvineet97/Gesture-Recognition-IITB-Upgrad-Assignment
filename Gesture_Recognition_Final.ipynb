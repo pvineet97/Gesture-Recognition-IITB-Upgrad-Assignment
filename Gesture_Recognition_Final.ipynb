{
 "cells": [
  {
   "cell_type": "markdown",
   "metadata": {},
   "source": [
    "# Gesture Recognition\n",
    "In this group project, you are going to build a 3D Conv model that will be able to predict the 5 gestures correctly. Please import the following libraries to get started. Once you have completed the code you can download the notebook for making a submission."
   ]
  },
  {
   "cell_type": "code",
   "execution_count": 1,
   "metadata": {},
   "outputs": [],
   "source": [
    "import numpy as np\n",
    "import os\n",
    "from imageio import imread\n",
    "from skimage.transform import resize\n",
    "import datetime\n",
    "import os"
   ]
  },
  {
   "cell_type": "markdown",
   "metadata": {},
   "source": [
    "We set the random seed so that the results don't vary drastically."
   ]
  },
  {
   "cell_type": "code",
   "execution_count": 2,
   "metadata": {},
   "outputs": [],
   "source": [
    "np.random.seed(30)\n",
    "import random as rn\n",
    "rn.seed(30)\n",
    "from tensorflow import keras\n",
    "import tensorflow as tf\n",
    "tf.random.set_seed(30)"
   ]
  },
  {
   "cell_type": "markdown",
   "metadata": {},
   "source": [
    "In this block, you read the folder names for training and validation. You also set the `batch_size` here. Note that you set the batch size in such a way that you are able to use the GPU in full capacity. You keep increasing the batch size until the machine throws an error."
   ]
  },
  {
   "cell_type": "code",
   "execution_count": 3,
   "metadata": {},
   "outputs": [],
   "source": [
    "train_doc = np.random.permutation(open('C:/Users/vineetp/Desktop/ml_ai/gitrepo/gesture_final/Project_data/Project_data/train.csv').readlines())\n",
    "val_doc = np.random.permutation(open('C:/Users/vineetp/Desktop/ml_ai/gitrepo/gesture_final/Project_data/Project_data/val.csv').readlines())\n",
    "batch_size = 39"
   ]
  },
  {
   "cell_type": "code",
   "execution_count": 4,
   "metadata": {},
   "outputs": [],
   "source": [
    "def image_specifications(nb_frames, x, y):\n",
    "    return [np.round(np.linspace(0, 29, nb_frames)).astype('int'), x, y]\n",
    "\n",
    "\n",
    "img_specs = image_specifications(20, 100, 100)"
   ]
  },
  {
   "cell_type": "markdown",
   "metadata": {},
   "source": [
    "## Generator\n",
    "This is one of the most important part of the code. The overall structure of the generator has been given. In the generator, you are going to preprocess the images as you have images of 2 different dimensions as well as create a batch of video frames. You have to experiment with `img_idx`, `y`,`z` and normalization such that you get high accuracy."
   ]
  },
  {
   "cell_type": "code",
   "execution_count": 5,
   "metadata": {},
   "outputs": [],
   "source": [
    "def get_batch_labels_and_data(source_path, t, batch, batch_size, img_specs):\n",
    "    x, y, z = len(img_specs[0]), img_specs[1], img_specs[2]\n",
    "    img_idx = img_specs[0]  # create a list of image numbers you want to use for a particular video\n",
    "    batch_data = np.zeros((batch_size, x, y, z, 3))  # x is the number of images you use for each video, (y,z) is the final size of the input images and 3 is the number of channels RGB\n",
    "    batch_labels = np.zeros((batch_size, 5))  # batch_labels is the one hot representation of the output\n",
    "    \n",
    "    for folder in range(batch_size):  # iterate over the batch_size\n",
    "        imgs = os.listdir('{0}/{1}'.format(source_path, t[folder + (batch * batch_size)].split(';')[0]))  # read all the images in the folder\n",
    "        \n",
    "        for idx, item in enumerate(img_idx):  # Iterate iver the frames/images of a folder to read them in\n",
    "            image = imread('{0}/{1}/{2}'.format(source_path, t[folder + (batch * batch_size)].strip().split(';')[0], imgs[item])).astype(np.float32)\n",
    "            \n",
    "            #crop the images and resize them. Note that the images are of 2 different shape \n",
    "            #and the conv3D will throw error if the inputs in a batch have different shapes\n",
    "            \n",
    "            if image.shape[0] != image.shape[1]:\n",
    "                image = image[:120, 20:140]\n",
    "            image = resize(image, (y, z))\n",
    "            \n",
    "            batch_data[folder, idx, :, :, 0] = image[:, :, 0] / 255.0  # normalise and feed in the image\n",
    "            batch_data[folder, idx, :, :, 1] = image[:, :, 1] / 255.0  # normalise and feed in the image\n",
    "            batch_data[folder, idx, :, :, 2] = image[:, :, 2] / 255.0  # normalise and feed in the image\n",
    "        \n",
    "        batch_labels[folder, int(t[folder + (batch * batch_size)].strip().split(';')[2])] = 1\n",
    "    \n",
    "    return batch_data, batch_labels\n",
    "\n",
    "\n",
    "def generator(source_path, folder_list, batch_size, img_specs=img_specs):\n",
    "    print(f\"Source Path: {source_path}; Batch Size: {batch_size}\")\n",
    "    while True:\n",
    "        t = np.random.permutation(folder_list)\n",
    "        num_batches = int(len(folder_list) / batch_size)\n",
    "        for batch in range(num_batches):  # we iterate over the number of batches\n",
    "            yield get_batch_labels_and_data(source_path, t, batch, batch_size, img_specs)  # you yield the batch_data and the batch_labels, remember what does yield do\n",
    "        \n",
    "        # write the code for the remaining data points which are left after full batches\n",
    "        if len(folder_list) % batch_size != 0:\n",
    "            batch_size = len(folder_list) % batch_size\n",
    "            yield get_batch_labels_and_data(source_path, t, batch, batch_size, img_specs)  # you yield the batch_data and the batch_labels, remember what does yield do"
   ]
  },
  {
   "cell_type": "markdown",
   "metadata": {},
   "source": [
    "Note here that a video is represented above in the generator as (number of images, height, width, number of channels). Take this into consideration while creating the model architecture."
   ]
  },
  {
   "cell_type": "code",
   "execution_count": 6,
   "metadata": {},
   "outputs": [
    {
     "name": "stdout",
     "output_type": "stream",
     "text": [
      "# training sequences: 663\n",
      "# validation sequences: 100\n",
      "# epcohs: 20\n"
     ]
    }
   ],
   "source": [
    "curr_dt_time = datetime.datetime.now()\n",
    "train_path = 'C:/Users/vineetp/Desktop/ml_ai/gitrepo/gesture_final/Project_data/Project_data/train'\n",
    "val_path = 'C:/Users/vineetp/Desktop/ml_ai/gitrepo/gesture_final/Project_data/Project_data/val'\n",
    "num_train_sequences = len(train_doc)\n",
    "print(f\"# training sequences: {num_train_sequences}\")\n",
    "num_val_sequences = len(val_doc)\n",
    "print(f\"# validation sequences: {num_val_sequences}\")\n",
    "num_epochs = 20 # choose the number of epochs\n",
    "print(f\"# epcohs: {num_epochs}\")"
   ]
  },
  {
   "cell_type": "markdown",
   "metadata": {},
   "source": [
    "## Model\n",
    "Here you make the model using different functionalities that Keras provides. Remember to use `Conv3D` and `MaxPooling3D` and not `Conv2D` and `Maxpooling2D` for a 3D convolution model. You would want to use `TimeDistributed` while building a Conv2D + RNN model. Also remember that the last layer is the softmax. Design the network in such a way that the model is able to give good accuracy on the least number of parameters so that it can fit in the memory of the webcam."
   ]
  },
  {
   "cell_type": "code",
   "execution_count": 7,
   "metadata": {},
   "outputs": [],
   "source": [
    "from tensorflow.keras.models import Sequential\n",
    "\n",
    "from tensorflow.keras.layers import Activation\n",
    "from tensorflow.keras.layers import BatchNormalization\n",
    "from tensorflow.keras.layers import Conv2D\n",
    "from tensorflow.keras.layers import Conv3D\n",
    "from tensorflow.keras.layers import ConvLSTM2D\n",
    "from tensorflow.keras.layers import Dense\n",
    "from tensorflow.keras.layers import Dropout\n",
    "from tensorflow.keras.layers import Flatten\n",
    "from tensorflow.keras.layers import GlobalAveragePooling2D\n",
    "from tensorflow.keras.layers import GlobalAveragePooling3D\n",
    "from tensorflow.keras.layers import GRU\n",
    "from tensorflow.keras.layers import LSTM\n",
    "from tensorflow.keras.layers import MaxPooling3D, MaxPooling2D\n",
    "from tensorflow.keras.layers import TimeDistributed\n",
    "\n",
    "from tensorflow.keras.callbacks import ModelCheckpoint\n",
    "from tensorflow.keras.callbacks import ReduceLROnPlateau\n",
    "\n",
    "from tensorflow.keras import optimizers"
   ]
  },
  {
   "cell_type": "code",
   "execution_count": 8,
   "metadata": {},
   "outputs": [],
   "source": [
    "input_shape = (len(img_specs[0]), img_specs[1], img_specs[2], 3)"
   ]
  },
  {
   "cell_type": "markdown",
   "metadata": {},
   "source": [
    "### Model - 1:"
   ]
  },
  {
   "cell_type": "code",
   "execution_count": 9,
   "metadata": {},
   "outputs": [],
   "source": [
    "# write your model here\n",
    "\n",
    "# model 1 -- base model\n",
    "\n",
    "# model = Sequential()\n",
    "\n",
    "# model.add(Conv3D(32, kernel_size=3, activation='relu', input_shape=input_shape))\n",
    "\n",
    "# model.add(Conv3D(63, kernel_size=3, activation='relu'))\n",
    "# model.add(MaxPooling3D(pool_size=2))\n",
    "\n",
    "# model.add(Flatten())\n",
    "# model.add(Dense(256, activation='relu'))\n",
    "# model.add(Dense(5, activation='softmax'))"
   ]
  },
  {
   "cell_type": "markdown",
   "metadata": {},
   "source": [
    "Number of Epochs: 20 <br />\n",
    "Train accuracy: 0.20 and Validation accuracy: 0.41 <br />\n",
    "The model is unable to learn, adding more layers to the model"
   ]
  },
  {
   "cell_type": "markdown",
   "metadata": {},
   "source": [
    "### Model - 2"
   ]
  },
  {
   "cell_type": "code",
   "execution_count": 10,
   "metadata": {},
   "outputs": [],
   "source": [
    "# model 2 -- increasing the number of layers\n",
    "\n",
    "# model = Sequential()\n",
    "\n",
    "# model.add(Conv3D(16, (3, 3, 3), padding='same',input_shape=input_shape))\n",
    "# model.add(Activation('relu'))\n",
    "# model.add(BatchNormalization())\n",
    "        \n",
    "# model.add(Conv3D(16, (3, 3, 3), padding='same',input_shape=input_shape))\n",
    "# model.add(Activation('relu'))\n",
    "# model.add(BatchNormalization())\n",
    "# model.add(MaxPooling3D(pool_size=(2, 2, 2)))\n",
    "\n",
    "# model.add(Conv3D(32, (3, 3, 3), padding='same'))\n",
    "# model.add(Activation('relu'))\n",
    "# model.add(BatchNormalization())\n",
    "        \n",
    "# model.add(Conv3D(32, (3, 3, 3), padding='same'))\n",
    "# model.add(Activation('relu'))\n",
    "# model.add(BatchNormalization())\n",
    "# model.add(MaxPooling3D(pool_size=(2, 2, 2)))\n",
    "\n",
    "# model.add(Conv3D(64, (3, 3, 3), padding='same'))\n",
    "# model.add(Activation('relu'))\n",
    "# model.add(BatchNormalization())\n",
    "        \n",
    "# model.add(Conv3D(64, (3, 3, 3), padding='same'))\n",
    "# model.add(Activation('relu'))\n",
    "# model.add(BatchNormalization())\n",
    "# model.add(MaxPooling3D(pool_size=(2, 2, 2)))\n",
    "\n",
    "# model.add(Conv3D(128, (3, 3, 3), padding='same'))\n",
    "# model.add(Activation('relu'))\n",
    "# model.add(BatchNormalization())\n",
    "        \n",
    "# model.add(Conv3D(128, (3, 3, 3), padding='same'))\n",
    "# model.add(Activation('relu'))\n",
    "# model.add(BatchNormalization())\n",
    "# model.add(MaxPooling3D(pool_size=(2, 2, 2)))\n",
    "\n",
    "# model.add(Flatten())\n",
    "# model.add(Dense(64, activation='relu'))\n",
    "# model.add(BatchNormalization())\n",
    "# model.add(Dropout(0.25))\n",
    "\n",
    "# model.add(Dense(63, activation='relu'))\n",
    "# model.add(BatchNormalization())\n",
    "# model.add(Dropout(0.25))\n",
    "\n",
    "# model.add(Dense(5, activation='softmax'))"
   ]
  },
  {
   "cell_type": "markdown",
   "metadata": {},
   "source": [
    "Number of Epochs: 20<br />\n",
    "Train accuracy: 0.61 and Validation accuracy: 0.75 <br />\n",
    "The train accuracy and the validation accuracy are sub-par, reducing some of the parameters."
   ]
  },
  {
   "cell_type": "markdown",
   "metadata": {},
   "source": [
    "### Model - 3"
   ]
  },
  {
   "cell_type": "code",
   "execution_count": 11,
   "metadata": {},
   "outputs": [],
   "source": [
    "# model 3 -- reducing the number of parameters\n",
    "\n",
    "# model = Sequential()\n",
    "\n",
    "# model.add(Conv3D(16, (3, 3, 3), padding='same',input_shape=input_shape))\n",
    "# model.add(Activation('relu'))\n",
    "# model.add(BatchNormalization())\n",
    "# model.add(MaxPooling3D(pool_size=(2, 2, 2)))\n",
    "\n",
    "# model.add(Conv3D(32, (2, 2, 2), padding='same'))\n",
    "# model.add(Activation('relu'))\n",
    "# model.add(BatchNormalization())\n",
    "# model.add(MaxPooling3D(pool_size=(2, 2, 2)))\n",
    "\n",
    "# model.add(Conv3D(64, (2, 2, 2), padding='same'))\n",
    "# model.add(Activation('relu'))\n",
    "# model.add(BatchNormalization())\n",
    "# model.add(MaxPooling3D(pool_size=(2, 2, 2)))\n",
    "\n",
    "# model.add(Conv3D(128, (2, 2, 2), padding='same'))\n",
    "# model.add(Activation('relu'))\n",
    "# model.add(BatchNormalization())\n",
    "# model.add(MaxPooling3D(pool_size=(2, 2, 2)))\n",
    "        \n",
    "# model.add(Flatten())\n",
    "# model.add(Dense(64,activation='relu'))\n",
    "# model.add(BatchNormalization())\n",
    "# model.add(Dropout(0.25))\n",
    "\n",
    "# model.add(Dense(64, activation='relu'))\n",
    "# model.add(BatchNormalization())\n",
    "# model.add(Dropout(0.25))\n",
    "\n",
    "# model.add(Dense(5, activation='softmax'))"
   ]
  },
  {
   "cell_type": "markdown",
   "metadata": {},
   "source": [
    "Number of Epcohs: 20 <br />\n",
    "Train accuracuy: 0.97 and Validation accuracy: 0.83 <br />\n",
    "Model seems to be overfitting, reducing the number of parameters even further."
   ]
  },
  {
   "cell_type": "markdown",
   "metadata": {},
   "source": [
    "### Model - 4"
   ]
  },
  {
   "cell_type": "code",
   "execution_count": 12,
   "metadata": {},
   "outputs": [],
   "source": [
    "# model 4 -- reducing even more trainable parameters\n",
    "\n",
    "# model = Sequential()\n",
    "\n",
    "# model.add(Conv3D(16, (3, 3, 3), padding='same',input_shape=input_shape))\n",
    "# model.add(Activation('relu'))\n",
    "# model.add(BatchNormalization())\n",
    "# model.add(MaxPooling3D(pool_size=(2, 2, 2)))\n",
    "\n",
    "# model.add(Conv3D(32, (3, 3, 3), padding='same'))\n",
    "# model.add(Activation('relu'))\n",
    "# model.add(BatchNormalization())\n",
    "# model.add(MaxPooling3D(pool_size=(2, 2, 2)))\n",
    "\n",
    "# model.add(Conv3D(64, (2, 2, 2), padding='same'))\n",
    "# model.add(Activation('relu'))\n",
    "# model.add(BatchNormalization())\n",
    "# model.add(MaxPooling3D(pool_size=(2, 2, 2)))\n",
    "\n",
    "# model.add(Conv3D(128, (2, 2, 2), padding='same'))\n",
    "# model.add(Activation('relu'))\n",
    "# model.add(BatchNormalization())\n",
    "# model.add(MaxPooling3D(pool_size=(2, 2, 2)))\n",
    "        \n",
    "# model.add(Flatten())\n",
    "# model.add(Dense(64, activation='relu'))\n",
    "# model.add(BatchNormalization())\n",
    "# model.add(Dropout(0.25))\n",
    "\n",
    "# model.add(Dense(64, activation='relu'))\n",
    "# model.add(BatchNormalization())\n",
    "# model.add(Dropout(0.25))\n",
    "\n",
    "# model.add(Dense(5, activation='softmax'))"
   ]
  },
  {
   "cell_type": "markdown",
   "metadata": {},
   "source": [
    "Number of Epochs: 20 <br />\n",
    "Train accuracuy: 0.17 and Validation accuracy: 0.5 <br />\n",
    "Reducing the number of parameters too much has lead a model thats significanlty underfitting. <br />\n",
    "Increasing the number of epochs from 20 to 40 and creating a new model as well as removing the Dropout layers."
   ]
  },
  {
   "cell_type": "markdown",
   "metadata": {},
   "source": [
    "### Model - 5"
   ]
  },
  {
   "cell_type": "code",
   "execution_count": 13,
   "metadata": {},
   "outputs": [],
   "source": [
    "# model - 5 -- Increasing the number of parameters\n",
    "\n",
    "# model = Sequential()\n",
    "\n",
    "# model.add(Conv3D(32, kernel_size=3, activation='relu', input_shape=input_shape))\n",
    "# model.add(Conv3D(64, kernel_size=3, activation='relu'))\n",
    "# model.add(MaxPooling3D(pool_size=(2, 2, 2)))\n",
    "# model.add(BatchNormalization())\n",
    "\n",
    "# model.add(Conv3D(128, kernel_size=3, activation='relu'))\n",
    "# model.add(MaxPooling3D(pool_size=(1, 2, 2)))\n",
    "# model.add(BatchNormalization())\n",
    "\n",
    "# model.add(Conv3D(256, kernel_size=(1, 3, 3), activation='relu'))\n",
    "# model.add(MaxPooling3D(pool_size=(1, 2, 2)))\n",
    "# model.add(BatchNormalization())\n",
    "\n",
    "# model.add(Conv3D(512, kernel_size=(1, 3, 3), activation='relu'))\n",
    "# model.add(Conv3D(512, kernel_size=(1, 3, 3), activation='relu'))\n",
    "# model.add(MaxPooling3D(pool_size=(1, 2, 2)))\n",
    "# model.add(BatchNormalization())\n",
    "\n",
    "# model.add(Flatten())\n",
    "# model.add(Dense(512, activation='relu'))\n",
    "# model.add(BatchNormalization())\n",
    "# model.add(Dense(5, activation='softmax'))"
   ]
  },
  {
   "cell_type": "markdown",
   "metadata": {},
   "source": [
    "Number of Epochs: 40<br />\n",
    "Training accuracy: 1.00 and Validation accuracy: 0.91 <br />\n",
    "Model is clearly overfitting. Reducing the number of parameters and adding Dropout layers again."
   ]
  },
  {
   "cell_type": "markdown",
   "metadata": {},
   "source": [
    "### Model - 6"
   ]
  },
  {
   "cell_type": "code",
   "execution_count": 14,
   "metadata": {},
   "outputs": [],
   "source": [
    "# model - 6 -- Reducing number of parameters and re-introducing dropout layers\n",
    "\n",
    "# model = Sequential()\n",
    "\n",
    "# model.add(Conv3D(16, (5, 5, 5), activation='relu', input_shape=input_shape))\n",
    "# model.add(MaxPooling3D((2, 2, 2), padding='same'))\n",
    "# model.add(BatchNormalization())\n",
    "\n",
    "# model.add(Conv3D(32, (3, 3, 3), activation='relu'))\n",
    "# model.add(MaxPooling3D(pool_size=(1, 2, 2), padding='same'))\n",
    "# model.add(BatchNormalization())\n",
    "\n",
    "# model.add(Conv3D(64, (3, 3, 3), activation='relu'))\n",
    "# model.add(MaxPooling3D(pool_size=(1, 2, 2), padding='same'))\n",
    "# model.add(BatchNormalization())\n",
    "\n",
    "# model.add(Flatten())\n",
    "# model.add(Dense(128, activation='relu'))\n",
    "# model.add(BatchNormalization())\n",
    "# model.add(Dropout(0.2))\n",
    "\n",
    "# model.add(Dense(64, activation='relu'))\n",
    "# model.add(BatchNormalization())\n",
    "# model.add(Dropout(0.2))\n",
    "\n",
    "# model.add(Dense(5, activation='softmax'))"
   ]
  },
  {
   "cell_type": "markdown",
   "metadata": {},
   "source": [
    "Number of Epochs: 40 <br />\n",
    "Training accuracy: 0.99 and Validation accuracy: 1.00 <br />\n",
    "Model still seems to overfit on the data, even though the validation accuracy has increased significantly. <br />\n",
    "Increasing the number of Dropout layers, and using GlobalAveragePooling3D instead of Flatten."
   ]
  },
  {
   "cell_type": "markdown",
   "metadata": {},
   "source": [
    "### Model - 7"
   ]
  },
  {
   "cell_type": "code",
   "execution_count": 15,
   "metadata": {},
   "outputs": [],
   "source": [
    "# model - 7 -- Increasing the number of Droupout layers and replaing Flatten with GlobalAveragePooling3D\n",
    "\n",
    "# model = Sequential()\n",
    "\n",
    "# model.add(Conv3D(32, kernel_size=3, activation='relu', input_shape=input_shape))\n",
    "# model.add(Conv3D(64, kernel_size=3, activation='relu'))\n",
    "# model.add(MaxPooling3D(pool_size=(2, 2, 2)))\n",
    "# model.add(BatchNormalization())\n",
    "# model.add(Dropout(0.2))\n",
    "\n",
    "# model.add(Conv3D(128, kernel_size=3, activation='relu'))\n",
    "# model.add(MaxPooling3D(pool_size=(1, 2, 2)))\n",
    "# model.add(BatchNormalization())\n",
    "# model.add(Dropout(0.2))\n",
    "\n",
    "# model.add(Conv3D(256, kernel_size=(1, 3, 3), activation='relu'))\n",
    "# model.add(MaxPooling3D(pool_size=(1, 2, 2)))\n",
    "# model.add(BatchNormalization())\n",
    "# model.add(Dropout(0.2))\n",
    "\n",
    "# model.add(GlobalAveragePooling3D())\n",
    "# model.add(Dense(512, activation='relu'))\n",
    "# model.add(BatchNormalization())\n",
    "# model.add(Dense(5, activation='softmax'))"
   ]
  },
  {
   "cell_type": "markdown",
   "metadata": {},
   "source": [
    "Number of Epochs: 40<br />\n",
    "Train accuracy: 0.99 and Validation accuracy: 0.91 <br />\n",
    "Both the train and validation accuracy are in 0.9 range. <br />\n",
    "However with how close the train accuracy is to 1, trying different architectures as it's highly likely that the model is overfitting."
   ]
  },
  {
   "cell_type": "markdown",
   "metadata": {},
   "source": [
    "### Model - 8"
   ]
  },
  {
   "cell_type": "code",
   "execution_count": 16,
   "metadata": {},
   "outputs": [],
   "source": [
    "# model - 8 -- CNN with LSTM, reducing the number of epochs to 20\n",
    "\n",
    "# model = Sequential()\n",
    "\n",
    "# model.add(TimeDistributed(Conv2D(16, (3, 3) , padding='same', activation='relu'), input_shape=input_shape))\n",
    "# model.add(TimeDistributed(BatchNormalization()))\n",
    "# model.add(TimeDistributed(MaxPooling2D((2, 2))))\n",
    "        \n",
    "# model.add(TimeDistributed(Conv2D(32, (3, 3) , padding='same', activation='relu')))\n",
    "# model.add(TimeDistributed(BatchNormalization()))\n",
    "# model.add(TimeDistributed(MaxPooling2D((2, 2))))\n",
    "        \n",
    "# model.add(TimeDistributed(Conv2D(64, (3, 3) , padding='same', activation='relu')))\n",
    "# model.add(TimeDistributed(BatchNormalization()))\n",
    "# model.add(TimeDistributed(MaxPooling2D((2, 2))))\n",
    "        \n",
    "# model.add(TimeDistributed(Conv2D(128, (3, 3) , padding='same', activation='relu')))\n",
    "# model.add(TimeDistributed(BatchNormalization()))\n",
    "# model.add(TimeDistributed(MaxPooling2D((2, 2))))\n",
    "        \n",
    "# model.add(TimeDistributed(Conv2D(256, (3, 3) , padding='same', activation='relu')))\n",
    "# model.add(TimeDistributed(BatchNormalization()))\n",
    "# model.add(TimeDistributed(MaxPooling2D((2, 2))))\n",
    "\n",
    "# model.add(TimeDistributed(Flatten()))\n",
    "# model.add(LSTM(64))\n",
    "# model.add(Dropout(0.25))\n",
    "        \n",
    "# model.add(Dense(64,activation='relu'))\n",
    "# model.add(Dropout(0.25))\n",
    "        \n",
    "# model.add(Dense(5, activation='softmax'))"
   ]
  },
  {
   "cell_type": "markdown",
   "metadata": {},
   "source": [
    "Number of Epochs: 20 <br />\n",
    "Train accuracy: 0.50 and Validation accuracy: 0.66 <br />\n",
    "The accuracy of the model is sub-par. Trying a different architecture -> Conv2D with GRU"
   ]
  },
  {
   "cell_type": "markdown",
   "metadata": {},
   "source": [
    "### Model - 9"
   ]
  },
  {
   "cell_type": "code",
   "execution_count": 17,
   "metadata": {},
   "outputs": [],
   "source": [
    "# model - 9 -- TimeDistributed Conv2D + GRU\n",
    "\n",
    "# model = Sequential()\n",
    "\n",
    "# model.add(TimeDistributed(Conv2D(32, (3, 3), activation='relu'), input_shape=input_shape))\n",
    "# model.add(TimeDistributed(MaxPooling2D(2, 2)))\n",
    "# model.add(BatchNormalization())\n",
    "\n",
    "# model.add(TimeDistributed(Conv2D(64, (3, 3), activation='relu')))\n",
    "# model.add(TimeDistributed(MaxPooling2D(2, 2)))\n",
    "# model.add(BatchNormalization())\n",
    "\n",
    "# model.add(TimeDistributed(GlobalAveragePooling2D()))\n",
    "# model.add(TimeDistributed(Dense(63, activation='relu')))\n",
    "# model.add(BatchNormalization())\n",
    "\n",
    "# model.add(GRU(128))\n",
    "# model.add(BatchNormalization())\n",
    "# model.add(Dense(5, activation='relu'))"
   ]
  },
  {
   "cell_type": "markdown",
   "metadata": {},
   "source": [
    "Number of Epochs: 40 <br />\n",
    "Train accuracy: 0.96 and Validation accuracy: 0.81 <br />\n",
    "The difference between the train and validation accuracy is significant, adding Dropout layers to the model."
   ]
  },
  {
   "cell_type": "markdown",
   "metadata": {},
   "source": [
    "### Model - 10"
   ]
  },
  {
   "cell_type": "code",
   "execution_count": 18,
   "metadata": {},
   "outputs": [],
   "source": [
    "# model - 10 -- TimeDistributed Conv2D + GRU\n",
    "\n",
    "# model = Sequential()\n",
    "\n",
    "# model.add(TimeDistributed(Conv2D(32, (3, 3), activation='relu'), input_shape=input_shape))\n",
    "# model.add(TimeDistributed(MaxPooling2D(2, 2)))\n",
    "# model.add(BatchNormalization())\n",
    "\n",
    "# model.add(TimeDistributed(Conv2D(64, (3, 3), activation='relu')))\n",
    "# model.add(TimeDistributed(MaxPooling2D(2, 2)))\n",
    "# model.add(BatchNormalization())\n",
    "\n",
    "# model.add(TimeDistributed(GlobalAveragePooling2D()))\n",
    "# model.add(TimeDistributed(Dense(63, activation='relu')))\n",
    "# model.add(BatchNormalization())\n",
    "# model.add(Dropout(0.2))\n",
    "\n",
    "# model.add(GRU(128))\n",
    "# model.add(BatchNormalization())\n",
    "# model.add(Dense(5, activation='relu'))"
   ]
  },
  {
   "cell_type": "markdown",
   "metadata": {},
   "source": [
    "Number of Epochs: 40 <br />\n",
    "Train accuracy: 0.86 and Validation accuracy: 0.58 <br />\n",
    "Changing the model to TimeDistributed Conv2D with GlobalAveragePooling3D, increasing the number of epochs to 50."
   ]
  },
  {
   "cell_type": "markdown",
   "metadata": {},
   "source": [
    "### Model - 11"
   ]
  },
  {
   "cell_type": "code",
   "execution_count": 19,
   "metadata": {},
   "outputs": [],
   "source": [
    "# model - 11 -- TimeDistributed Conv2D with GlobalAvreagePooling3D\n",
    "\n",
    "# model = Sequential()\n",
    "\n",
    "# model.add(TimeDistributed(Conv2D(32, (3, 3), activation='relu'), input_shape=input_shape))\n",
    "# model.add(TimeDistributed(MaxPooling2D(2, 2)))\n",
    "# model.add(BatchNormalization())\n",
    "\n",
    "# model.add(TimeDistributed(Conv2D(64, (3, 3), activation='relu')))\n",
    "# model.add(TimeDistributed(MaxPooling2D(2, 2)))\n",
    "# model.add(BatchNormalization())\n",
    "\n",
    "# model.add(TimeDistributed(Conv2D(128, (3, 3), activation='relu')))\n",
    "# model.add(TimeDistributed(MaxPooling2D(2, 2)))\n",
    "# model.add(BatchNormalization())\n",
    "\n",
    "# model.add(GlobalAveragePooling3D())\n",
    "# model.add(Dense(256, activation='relu'))\n",
    "# model.add(BatchNormalization())\n",
    "# model.add(Dense(5, activation='softmax'))"
   ]
  },
  {
   "cell_type": "markdown",
   "metadata": {},
   "source": [
    "Epochs: 50 <br />\n",
    "Train accuracy: 0.99 and Validation accuracy: 0.91 <br />\n",
    "Both the train and validation accuracy are in the .9 range <br />\n",
    "However with how close the Train accuracy is close to 1 the model is likely overfitting. <br />\n",
    "Introducing Dropout layers to Model - 10, keeping the number of epochs same."
   ]
  },
  {
   "cell_type": "markdown",
   "metadata": {},
   "source": [
    "### Model - 12 - Final Model"
   ]
  },
  {
   "cell_type": "code",
   "execution_count": 20,
   "metadata": {},
   "outputs": [],
   "source": [
    "model = Sequential()\n",
    "\n",
    "model.add(TimeDistributed(Conv2D(32, (3, 3), activation='relu'), input_shape=input_shape))\n",
    "model.add(TimeDistributed(MaxPooling2D(2, 2)))\n",
    "model.add(BatchNormalization())\n",
    "\n",
    "model.add(TimeDistributed(Conv2D(64, (3, 3), activation='relu')))\n",
    "model.add(TimeDistributed(MaxPooling2D(2, 2)))\n",
    "model.add(BatchNormalization())\n",
    "model.add(Dropout(0.25))\n",
    "\n",
    "model.add(TimeDistributed(Conv2D(128, (3, 3), activation='relu')))\n",
    "model.add(TimeDistributed(MaxPooling2D(2, 2)))\n",
    "model.add(BatchNormalization())\n",
    "model.add(Dropout(0.25))\n",
    "\n",
    "model.add(GlobalAveragePooling3D())\n",
    "model.add(Dense(256, activation='relu'))\n",
    "model.add(BatchNormalization())\n",
    "model.add(Dropout(0.5))\n",
    "model.add(Dense(5, activation='softmax'))"
   ]
  },
  {
   "cell_type": "markdown",
   "metadata": {},
   "source": [
    "Number of Epochs: 50 <br />\n",
    "Train accuracy: 0.93 and Validation Accuracy = 0.91 <br />\n",
    "Both the train and validation accuracy are in the range of .9 <br />\n",
    "As well as the difference in the accuracies for the train and validation set is not too significant. <br />\n",
    "Selecting __Model - 12__ (TimeDistributed Conv2D with GlobalAveragePooling3D and Dropouts)."
   ]
  },
  {
   "cell_type": "markdown",
   "metadata": {},
   "source": [
    "Now that you have written the model, the next step is to `compile` the model. When you print the `summary` of the model, you'll see the total number of parameters you have to train."
   ]
  },
  {
   "cell_type": "code",
   "execution_count": 21,
   "metadata": {},
   "outputs": [
    {
     "name": "stderr",
     "output_type": "stream",
     "text": [
      "WARNING:absl:`lr` is deprecated in Keras optimizer, please use `learning_rate` or use the legacy optimizer, e.g.,tf.keras.optimizers.legacy.Adam.\n"
     ]
    },
    {
     "name": "stdout",
     "output_type": "stream",
     "text": [
      "Model: \"sequential\"\n",
      "_________________________________________________________________\n",
      " Layer (type)                Output Shape              Param #   \n",
      "=================================================================\n",
      " time_distributed (TimeDistr  (None, 20, 98, 98, 32)   896       \n",
      " ibuted)                                                         \n",
      "                                                                 \n",
      " time_distributed_1 (TimeDis  (None, 20, 49, 49, 32)   0         \n",
      " tributed)                                                       \n",
      "                                                                 \n",
      " batch_normalization (BatchN  (None, 20, 49, 49, 32)   128       \n",
      " ormalization)                                                   \n",
      "                                                                 \n",
      " time_distributed_2 (TimeDis  (None, 20, 47, 47, 64)   18496     \n",
      " tributed)                                                       \n",
      "                                                                 \n",
      " time_distributed_3 (TimeDis  (None, 20, 23, 23, 64)   0         \n",
      " tributed)                                                       \n",
      "                                                                 \n",
      " batch_normalization_1 (Batc  (None, 20, 23, 23, 64)   256       \n",
      " hNormalization)                                                 \n",
      "                                                                 \n",
      " dropout (Dropout)           (None, 20, 23, 23, 64)    0         \n",
      "                                                                 \n",
      " time_distributed_4 (TimeDis  (None, 20, 21, 21, 128)  73856     \n",
      " tributed)                                                       \n",
      "                                                                 \n",
      " time_distributed_5 (TimeDis  (None, 20, 10, 10, 128)  0         \n",
      " tributed)                                                       \n",
      "                                                                 \n",
      " batch_normalization_2 (Batc  (None, 20, 10, 10, 128)  512       \n",
      " hNormalization)                                                 \n",
      "                                                                 \n",
      " dropout_1 (Dropout)         (None, 20, 10, 10, 128)   0         \n",
      "                                                                 \n",
      " global_average_pooling3d (G  (None, 128)              0         \n",
      " lobalAveragePooling3D)                                          \n",
      "                                                                 \n",
      " dense (Dense)               (None, 256)               33024     \n",
      "                                                                 \n",
      " batch_normalization_3 (Batc  (None, 256)              1024      \n",
      " hNormalization)                                                 \n",
      "                                                                 \n",
      " dropout_2 (Dropout)         (None, 256)               0         \n",
      "                                                                 \n",
      " dense_1 (Dense)             (None, 5)                 1285      \n",
      "                                                                 \n",
      "=================================================================\n",
      "Total params: 129,477\n",
      "Trainable params: 128,517\n",
      "Non-trainable params: 960\n",
      "_________________________________________________________________\n",
      "None\n"
     ]
    }
   ],
   "source": [
    "optimiser = optimizers.Adam(lr=0.01)  # write your optimizer\n",
    "model.compile(optimizer=optimiser, loss='categorical_crossentropy', metrics=['categorical_accuracy'])\n",
    "print(model.summary())"
   ]
  },
  {
   "cell_type": "markdown",
   "metadata": {},
   "source": [
    "Let us create the `train_generator` and the `val_generator` which will be used in `.fit_generator`."
   ]
  },
  {
   "cell_type": "code",
   "execution_count": 22,
   "metadata": {},
   "outputs": [],
   "source": [
    "train_generator = generator(train_path, train_doc, batch_size)\n",
    "val_generator = generator(val_path, val_doc, batch_size)"
   ]
  },
  {
   "cell_type": "code",
   "execution_count": 23,
   "metadata": {},
   "outputs": [],
   "source": [
    "model_name = 'model_init_{}/'.format(str(curr_dt_time).replace(' ', '').replace(':', '_'))\n",
    "    \n",
    "if not os.path.exists(model_name):\n",
    "    os.mkdir(model_name)\n",
    "        \n",
    "filepath = model_name + 'model-{epoch:05d}-{loss:.5f}-{categorical_accuracy:.5f}-{val_loss:.5f}-{val_categorical_accuracy:.5f}.h5'\n",
    "\n",
    "checkpoint = ModelCheckpoint(filepath,\n",
    "                             monitor='val_loss',\n",
    "                             verbose=1,\n",
    "                             save_best_only=False,\n",
    "                             save_weights_only=False,\n",
    "                             mode='auto',\n",
    "                             save_freq='epoch')\n",
    "\n",
    "LR = ReduceLROnPlateau(monitor='val_loss', factor=0.2, patience=5, min_lr=0.001, verbose=1)  # write the REducelronplateau code here\n",
    "\n",
    "callbacks_list = [checkpoint, LR]"
   ]
  },
  {
   "cell_type": "markdown",
   "metadata": {},
   "source": [
    "The `steps_per_epoch` and `validation_steps` are used by `fit` method to decide the number of next() calls it need to make."
   ]
  },
  {
   "cell_type": "code",
   "execution_count": 24,
   "metadata": {},
   "outputs": [],
   "source": [
    "if (num_train_sequences%batch_size) == 0:\n",
    "    steps_per_epoch = int(num_train_sequences/batch_size)\n",
    "else:\n",
    "    steps_per_epoch = (num_train_sequences//batch_size) + 1\n",
    "\n",
    "if (num_val_sequences%batch_size) == 0:\n",
    "    validation_steps = int(num_val_sequences/batch_size)\n",
    "else:\n",
    "    validation_steps = (num_val_sequences//batch_size) + 1"
   ]
  },
  {
   "cell_type": "markdown",
   "metadata": {},
   "source": [
    "Let us now fit the model. This will start training the model and with the help of the checkpoints, you'll be able to save the model at the end of each epoch."
   ]
  },
  {
   "cell_type": "code",
   "execution_count": 25,
   "metadata": {},
   "outputs": [
    {
     "name": "stdout",
     "output_type": "stream",
     "text": [
      "Epochs: 50\n"
     ]
    }
   ],
   "source": [
    "num_epochs =50\n",
    "print(f\"Epochs: {num_epochs}\")"
   ]
  },
  {
   "cell_type": "code",
   "execution_count": 26,
   "metadata": {},
   "outputs": [
    {
     "name": "stdout",
     "output_type": "stream",
     "text": [
      "Source Path: C:/Users/vineetp/Desktop/ml_ai/gitrepo/gesture_final/Project_data/Project_data/train; Batch Size: 39\n"
     ]
    },
    {
     "name": "stderr",
     "output_type": "stream",
     "text": [
      "C:\\Users\\vineetp\\AppData\\Local\\Temp\\ipykernel_39272\\1471780817.py:11: DeprecationWarning: Starting with ImageIO v3 the behavior of this function will switch to that of iio.v3.imread. To keep the current behavior (and make this warning dissapear) use `import imageio.v2 as imageio` or call `imageio.v2.imread` directly.\n",
      "  image = imread('{0}/{1}/{2}'.format(source_path, t[folder + (batch * batch_size)].strip().split(';')[0], imgs[item])).astype(np.float32)\n"
     ]
    },
    {
     "name": "stdout",
     "output_type": "stream",
     "text": [
      "Epoch 1/50\n",
      "17/17 [==============================] - ETA: 0s - loss: 1.7887 - categorical_accuracy: 0.4208 Source Path: C:/Users/vineetp/Desktop/ml_ai/gitrepo/gesture_final/Project_data/Project_data/val; Batch Size: 39\n",
      "\n",
      "Epoch 1: saving model to model_init_2023-08-1700_03_46.803863\\model-00001-1.78868-0.42081-1.61148-0.21000.h5\n",
      "17/17 [==============================] - 265s 16s/step - loss: 1.7887 - categorical_accuracy: 0.4208 - val_loss: 1.6115 - val_categorical_accuracy: 0.2100 - lr: 0.0010\n",
      "Epoch 2/50\n",
      "17/17 [==============================] - ETA: 0s - loss: 1.3277 - categorical_accuracy: 0.5415 \n",
      "Epoch 2: saving model to model_init_2023-08-1700_03_46.803863\\model-00002-1.32769-0.54148-1.59390-0.28788.h5\n",
      "17/17 [==============================] - 262s 16s/step - loss: 1.3277 - categorical_accuracy: 0.5415 - val_loss: 1.5939 - val_categorical_accuracy: 0.2879 - lr: 0.0010\n",
      "Epoch 3/50\n",
      "17/17 [==============================] - ETA: 0s - loss: 1.2125 - categorical_accuracy: 0.5611 \n",
      "Epoch 3: saving model to model_init_2023-08-1700_03_46.803863\\model-00003-1.21245-0.56109-1.73016-0.19444.h5\n",
      "17/17 [==============================] - 253s 15s/step - loss: 1.2125 - categorical_accuracy: 0.5611 - val_loss: 1.7302 - val_categorical_accuracy: 0.1944 - lr: 0.0010\n",
      "Epoch 4/50\n",
      "17/17 [==============================] - ETA: 0s - loss: 0.9975 - categorical_accuracy: 0.6169 \n",
      "Epoch 4: saving model to model_init_2023-08-1700_03_46.803863\\model-00004-0.99754-0.61689-1.61094-0.25000.h5\n",
      "17/17 [==============================] - 257s 16s/step - loss: 0.9975 - categorical_accuracy: 0.6169 - val_loss: 1.6109 - val_categorical_accuracy: 0.2500 - lr: 0.0010\n",
      "Epoch 5/50\n",
      "17/17 [==============================] - ETA: 0s - loss: 0.9482 - categorical_accuracy: 0.6546 \n",
      "Epoch 5: saving model to model_init_2023-08-1700_03_46.803863\\model-00005-0.94819-0.65460-1.84061-0.16667.h5\n",
      "17/17 [==============================] - 245s 15s/step - loss: 0.9482 - categorical_accuracy: 0.6546 - val_loss: 1.8406 - val_categorical_accuracy: 0.1667 - lr: 0.0010\n",
      "Epoch 6/50\n",
      "17/17 [==============================] - ETA: 0s - loss: 0.8729 - categorical_accuracy: 0.6757 \n",
      "Epoch 6: saving model to model_init_2023-08-1700_03_46.803863\\model-00006-0.87292-0.67572-2.12218-0.08333.h5\n",
      "17/17 [==============================] - 250s 15s/step - loss: 0.8729 - categorical_accuracy: 0.6757 - val_loss: 2.1222 - val_categorical_accuracy: 0.0833 - lr: 0.0010\n",
      "Epoch 7/50\n",
      "17/17 [==============================] - ETA: 0s - loss: 0.8457 - categorical_accuracy: 0.6802 \n",
      "Epoch 7: saving model to model_init_2023-08-1700_03_46.803863\\model-00007-0.84567-0.68024-1.89549-0.16667.h5\n",
      "17/17 [==============================] - 252s 15s/step - loss: 0.8457 - categorical_accuracy: 0.6802 - val_loss: 1.8955 - val_categorical_accuracy: 0.1667 - lr: 0.0010\n",
      "Epoch 8/50\n",
      "17/17 [==============================] - ETA: 0s - loss: 0.8153 - categorical_accuracy: 0.7119 \n",
      "Epoch 8: saving model to model_init_2023-08-1700_03_46.803863\\model-00008-0.81528-0.71192-2.10064-0.08333.h5\n",
      "17/17 [==============================] - 253s 15s/step - loss: 0.8153 - categorical_accuracy: 0.7119 - val_loss: 2.1006 - val_categorical_accuracy: 0.0833 - lr: 0.0010\n",
      "Epoch 9/50\n",
      "17/17 [==============================] - ETA: 0s - loss: 0.7412 - categorical_accuracy: 0.7360 \n",
      "Epoch 9: saving model to model_init_2023-08-1700_03_46.803863\\model-00009-0.74116-0.73605-1.72915-0.25000.h5\n",
      "17/17 [==============================] - 247s 15s/step - loss: 0.7412 - categorical_accuracy: 0.7360 - val_loss: 1.7292 - val_categorical_accuracy: 0.2500 - lr: 0.0010\n",
      "Epoch 10/50\n",
      "17/17 [==============================] - ETA: 0s - loss: 0.6497 - categorical_accuracy: 0.7557 \n",
      "Epoch 10: saving model to model_init_2023-08-1700_03_46.803863\\model-00010-0.64971-0.75566-2.45707-0.00000.h5\n",
      "17/17 [==============================] - 247s 15s/step - loss: 0.6497 - categorical_accuracy: 0.7557 - val_loss: 2.4571 - val_categorical_accuracy: 0.0000e+00 - lr: 0.0010\n",
      "Epoch 11/50\n",
      "17/17 [==============================] - ETA: 0s - loss: 0.6252 - categorical_accuracy: 0.7617 \n",
      "Epoch 11: saving model to model_init_2023-08-1700_03_46.803863\\model-00011-0.62516-0.76169-2.11747-0.16667.h5\n",
      "17/17 [==============================] - 256s 15s/step - loss: 0.6252 - categorical_accuracy: 0.7617 - val_loss: 2.1175 - val_categorical_accuracy: 0.1667 - lr: 0.0010\n",
      "Epoch 12/50\n",
      "17/17 [==============================] - ETA: 0s - loss: 0.5759 - categorical_accuracy: 0.7722 \n",
      "Epoch 12: saving model to model_init_2023-08-1700_03_46.803863\\model-00012-0.57593-0.77225-2.39678-0.16667.h5\n",
      "17/17 [==============================] - 251s 15s/step - loss: 0.5759 - categorical_accuracy: 0.7722 - val_loss: 2.3968 - val_categorical_accuracy: 0.1667 - lr: 0.0010\n",
      "Epoch 13/50\n",
      "17/17 [==============================] - ETA: 0s - loss: 0.5302 - categorical_accuracy: 0.7994 \n",
      "Epoch 13: saving model to model_init_2023-08-1700_03_46.803863\\model-00013-0.53017-0.79940-1.67947-0.25000.h5\n",
      "17/17 [==============================] - 253s 15s/step - loss: 0.5302 - categorical_accuracy: 0.7994 - val_loss: 1.6795 - val_categorical_accuracy: 0.2500 - lr: 0.0010\n",
      "Epoch 14/50\n",
      "17/17 [==============================] - ETA: 0s - loss: 0.5388 - categorical_accuracy: 0.7919 \n",
      "Epoch 14: saving model to model_init_2023-08-1700_03_46.803863\\model-00014-0.53883-0.79186-1.73892-0.33333.h5\n",
      "17/17 [==============================] - 254s 15s/step - loss: 0.5388 - categorical_accuracy: 0.7919 - val_loss: 1.7389 - val_categorical_accuracy: 0.3333 - lr: 0.0010\n",
      "Epoch 15/50\n",
      "17/17 [==============================] - ETA: 0s - loss: 0.5213 - categorical_accuracy: 0.8145 \n",
      "Epoch 15: saving model to model_init_2023-08-1700_03_46.803863\\model-00015-0.52130-0.81448-2.00158-0.25000.h5\n",
      "17/17 [==============================] - 256s 15s/step - loss: 0.5213 - categorical_accuracy: 0.8145 - val_loss: 2.0016 - val_categorical_accuracy: 0.2500 - lr: 0.0010\n",
      "Epoch 16/50\n",
      "17/17 [==============================] - ETA: 0s - loss: 0.5184 - categorical_accuracy: 0.8024 \n",
      "Epoch 16: saving model to model_init_2023-08-1700_03_46.803863\\model-00016-0.51837-0.80241-2.12636-0.25000.h5\n",
      "17/17 [==============================] - 254s 15s/step - loss: 0.5184 - categorical_accuracy: 0.8024 - val_loss: 2.1264 - val_categorical_accuracy: 0.2500 - lr: 0.0010\n",
      "Epoch 17/50\n",
      "17/17 [==============================] - ETA: 0s - loss: 0.4785 - categorical_accuracy: 0.8084 \n",
      "Epoch 17: saving model to model_init_2023-08-1700_03_46.803863\\model-00017-0.47848-0.80845-1.07858-0.50000.h5\n",
      "17/17 [==============================] - 252s 15s/step - loss: 0.4785 - categorical_accuracy: 0.8084 - val_loss: 1.0786 - val_categorical_accuracy: 0.5000 - lr: 0.0010\n",
      "Epoch 18/50\n",
      "17/17 [==============================] - ETA: 0s - loss: 0.4284 - categorical_accuracy: 0.8205 \n",
      "Epoch 18: saving model to model_init_2023-08-1700_03_46.803863\\model-00018-0.42839-0.82051-1.64090-0.33333.h5\n",
      "17/17 [==============================] - 255s 15s/step - loss: 0.4284 - categorical_accuracy: 0.8205 - val_loss: 1.6409 - val_categorical_accuracy: 0.3333 - lr: 0.0010\n",
      "Epoch 19/50\n",
      "17/17 [==============================] - ETA: 0s - loss: 0.4110 - categorical_accuracy: 0.8296 \n",
      "Epoch 19: saving model to model_init_2023-08-1700_03_46.803863\\model-00019-0.41100-0.82956-1.50245-0.33333.h5\n",
      "17/17 [==============================] - 254s 15s/step - loss: 0.4110 - categorical_accuracy: 0.8296 - val_loss: 1.5025 - val_categorical_accuracy: 0.3333 - lr: 0.0010\n",
      "Epoch 20/50\n",
      "17/17 [==============================] - ETA: 0s - loss: 0.4205 - categorical_accuracy: 0.8492 \n",
      "Epoch 20: saving model to model_init_2023-08-1700_03_46.803863\\model-00020-0.42049-0.84917-2.08472-0.25000.h5\n",
      "17/17 [==============================] - 252s 15s/step - loss: 0.4205 - categorical_accuracy: 0.8492 - val_loss: 2.0847 - val_categorical_accuracy: 0.2500 - lr: 0.0010\n",
      "Epoch 21/50\n",
      "17/17 [==============================] - ETA: 0s - loss: 0.3914 - categorical_accuracy: 0.8477 \n",
      "Epoch 21: saving model to model_init_2023-08-1700_03_46.803863\\model-00021-0.39141-0.84766-1.64964-0.33333.h5\n",
      "17/17 [==============================] - 253s 15s/step - loss: 0.3914 - categorical_accuracy: 0.8477 - val_loss: 1.6496 - val_categorical_accuracy: 0.3333 - lr: 0.0010\n"
     ]
    },
    {
     "name": "stdout",
     "output_type": "stream",
     "text": [
      "Epoch 22/50\n",
      "17/17 [==============================] - ETA: 0s - loss: 0.3457 - categorical_accuracy: 0.8718 \n",
      "Epoch 22: saving model to model_init_2023-08-1700_03_46.803863\\model-00022-0.34566-0.87179-2.04799-0.50000.h5\n",
      "17/17 [==============================] - 256s 15s/step - loss: 0.3457 - categorical_accuracy: 0.8718 - val_loss: 2.0480 - val_categorical_accuracy: 0.5000 - lr: 0.0010\n",
      "Epoch 23/50\n",
      "17/17 [==============================] - ETA: 0s - loss: 0.3395 - categorical_accuracy: 0.8884 \n",
      "Epoch 23: saving model to model_init_2023-08-1700_03_46.803863\\model-00023-0.33945-0.88839-0.83922-0.75000.h5\n",
      "17/17 [==============================] - 251s 15s/step - loss: 0.3395 - categorical_accuracy: 0.8884 - val_loss: 0.8392 - val_categorical_accuracy: 0.7500 - lr: 0.0010\n",
      "Epoch 24/50\n",
      "17/17 [==============================] - ETA: 0s - loss: 0.3265 - categorical_accuracy: 0.8763 \n",
      "Epoch 24: saving model to model_init_2023-08-1700_03_46.803863\\model-00024-0.32647-0.87632-1.88269-0.58333.h5\n",
      "17/17 [==============================] - 249s 15s/step - loss: 0.3265 - categorical_accuracy: 0.8763 - val_loss: 1.8827 - val_categorical_accuracy: 0.5833 - lr: 0.0010\n",
      "Epoch 25/50\n",
      "17/17 [==============================] - ETA: 0s - loss: 0.3657 - categorical_accuracy: 0.8552 \n",
      "Epoch 25: saving model to model_init_2023-08-1700_03_46.803863\\model-00025-0.36569-0.85520-1.59286-0.41667.h5\n",
      "17/17 [==============================] - 253s 15s/step - loss: 0.3657 - categorical_accuracy: 0.8552 - val_loss: 1.5929 - val_categorical_accuracy: 0.4167 - lr: 0.0010\n",
      "Epoch 26/50\n",
      "17/17 [==============================] - ETA: 0s - loss: 0.3263 - categorical_accuracy: 0.8612 \n",
      "Epoch 26: saving model to model_init_2023-08-1700_03_46.803863\\model-00026-0.32627-0.86124-1.46797-0.50000.h5\n",
      "17/17 [==============================] - 253s 15s/step - loss: 0.3263 - categorical_accuracy: 0.8612 - val_loss: 1.4680 - val_categorical_accuracy: 0.5000 - lr: 0.0010\n",
      "Epoch 27/50\n",
      "17/17 [==============================] - ETA: 0s - loss: 0.3253 - categorical_accuracy: 0.8733 \n",
      "Epoch 27: saving model to model_init_2023-08-1700_03_46.803863\\model-00027-0.32527-0.87330-1.81816-0.41667.h5\n",
      "17/17 [==============================] - 251s 15s/step - loss: 0.3253 - categorical_accuracy: 0.8733 - val_loss: 1.8182 - val_categorical_accuracy: 0.4167 - lr: 0.0010\n",
      "Epoch 28/50\n",
      "17/17 [==============================] - ETA: 0s - loss: 0.2898 - categorical_accuracy: 0.8959 \n",
      "Epoch 28: saving model to model_init_2023-08-1700_03_46.803863\\model-00028-0.28978-0.89593-1.78588-0.25000.h5\n",
      "17/17 [==============================] - 253s 15s/step - loss: 0.2898 - categorical_accuracy: 0.8959 - val_loss: 1.7859 - val_categorical_accuracy: 0.2500 - lr: 0.0010\n",
      "Epoch 29/50\n",
      "17/17 [==============================] - ETA: 0s - loss: 0.2979 - categorical_accuracy: 0.8854 \n",
      "Epoch 29: saving model to model_init_2023-08-1700_03_46.803863\\model-00029-0.29792-0.88537-1.68839-0.33333.h5\n",
      "17/17 [==============================] - 255s 15s/step - loss: 0.2979 - categorical_accuracy: 0.8854 - val_loss: 1.6884 - val_categorical_accuracy: 0.3333 - lr: 0.0010\n",
      "Epoch 30/50\n",
      "17/17 [==============================] - ETA: 0s - loss: 0.2498 - categorical_accuracy: 0.8929 \n",
      "Epoch 30: saving model to model_init_2023-08-1700_03_46.803863\\model-00030-0.24981-0.89291-1.20714-0.41667.h5\n",
      "17/17 [==============================] - 251s 15s/step - loss: 0.2498 - categorical_accuracy: 0.8929 - val_loss: 1.2071 - val_categorical_accuracy: 0.4167 - lr: 0.0010\n",
      "Epoch 31/50\n",
      "17/17 [==============================] - ETA: 0s - loss: 0.2145 - categorical_accuracy: 0.9170 \n",
      "Epoch 31: saving model to model_init_2023-08-1700_03_46.803863\\model-00031-0.21448-0.91704-1.64906-0.33333.h5\n",
      "17/17 [==============================] - 251s 15s/step - loss: 0.2145 - categorical_accuracy: 0.9170 - val_loss: 1.6491 - val_categorical_accuracy: 0.3333 - lr: 0.0010\n",
      "Epoch 32/50\n",
      "17/17 [==============================] - ETA: 0s - loss: 0.2310 - categorical_accuracy: 0.9140 \n",
      "Epoch 32: saving model to model_init_2023-08-1700_03_46.803863\\model-00032-0.23104-0.91403-7.05837-0.08333.h5\n",
      "17/17 [==============================] - 253s 15s/step - loss: 0.2310 - categorical_accuracy: 0.9140 - val_loss: 7.0584 - val_categorical_accuracy: 0.0833 - lr: 0.0010\n",
      "Epoch 33/50\n",
      "17/17 [==============================] - ETA: 0s - loss: 0.2215 - categorical_accuracy: 0.9261 \n",
      "Epoch 33: saving model to model_init_2023-08-1700_03_46.803863\\model-00033-0.22145-0.92609-0.97005-0.66667.h5\n",
      "17/17 [==============================] - 249s 15s/step - loss: 0.2215 - categorical_accuracy: 0.9261 - val_loss: 0.9700 - val_categorical_accuracy: 0.6667 - lr: 0.0010\n",
      "Epoch 34/50\n",
      "17/17 [==============================] - ETA: 0s - loss: 0.2241 - categorical_accuracy: 0.9155 \n",
      "Epoch 34: saving model to model_init_2023-08-1700_03_46.803863\\model-00034-0.22413-0.91554-1.95957-0.50000.h5\n",
      "17/17 [==============================] - 249s 15s/step - loss: 0.2241 - categorical_accuracy: 0.9155 - val_loss: 1.9596 - val_categorical_accuracy: 0.5000 - lr: 0.0010\n",
      "Epoch 35/50\n",
      "17/17 [==============================] - ETA: 0s - loss: 0.2418 - categorical_accuracy: 0.9050 \n",
      "Epoch 35: saving model to model_init_2023-08-1700_03_46.803863\\model-00035-0.24178-0.90498-4.59174-0.25000.h5\n",
      "17/17 [==============================] - 249s 15s/step - loss: 0.2418 - categorical_accuracy: 0.9050 - val_loss: 4.5917 - val_categorical_accuracy: 0.2500 - lr: 0.0010\n",
      "Epoch 36/50\n",
      "17/17 [==============================] - ETA: 0s - loss: 0.2223 - categorical_accuracy: 0.9005 \n",
      "Epoch 36: saving model to model_init_2023-08-1700_03_46.803863\\model-00036-0.22231-0.90045-0.53448-0.83333.h5\n",
      "17/17 [==============================] - 253s 15s/step - loss: 0.2223 - categorical_accuracy: 0.9005 - val_loss: 0.5345 - val_categorical_accuracy: 0.8333 - lr: 0.0010\n",
      "Epoch 37/50\n",
      "17/17 [==============================] - ETA: 0s - loss: 0.2327 - categorical_accuracy: 0.9020 \n",
      "Epoch 37: saving model to model_init_2023-08-1700_03_46.803863\\model-00037-0.23268-0.90196-3.24536-0.41667.h5\n",
      "17/17 [==============================] - 249s 15s/step - loss: 0.2327 - categorical_accuracy: 0.9020 - val_loss: 3.2454 - val_categorical_accuracy: 0.4167 - lr: 0.0010\n",
      "Epoch 38/50\n",
      "17/17 [==============================] - ETA: 0s - loss: 0.2015 - categorical_accuracy: 0.9321 \n",
      "Epoch 38: saving model to model_init_2023-08-1700_03_46.803863\\model-00038-0.20151-0.93213-1.81676-0.66667.h5\n",
      "17/17 [==============================] - 251s 15s/step - loss: 0.2015 - categorical_accuracy: 0.9321 - val_loss: 1.8168 - val_categorical_accuracy: 0.6667 - lr: 0.0010\n",
      "Epoch 39/50\n",
      "17/17 [==============================] - ETA: 0s - loss: 0.1725 - categorical_accuracy: 0.9351 \n",
      "Epoch 39: saving model to model_init_2023-08-1700_03_46.803863\\model-00039-0.17253-0.93514-0.96145-0.58333.h5\n",
      "17/17 [==============================] - 249s 15s/step - loss: 0.1725 - categorical_accuracy: 0.9351 - val_loss: 0.9615 - val_categorical_accuracy: 0.5833 - lr: 0.0010\n",
      "Epoch 40/50\n",
      "17/17 [==============================] - ETA: 0s - loss: 0.1576 - categorical_accuracy: 0.9382 \n",
      "Epoch 40: saving model to model_init_2023-08-1700_03_46.803863\\model-00040-0.15762-0.93816-2.26554-0.41667.h5\n",
      "17/17 [==============================] - 250s 15s/step - loss: 0.1576 - categorical_accuracy: 0.9382 - val_loss: 2.2655 - val_categorical_accuracy: 0.4167 - lr: 0.0010\n",
      "Epoch 41/50\n",
      "17/17 [==============================] - ETA: 0s - loss: 0.1516 - categorical_accuracy: 0.9487 \n",
      "Epoch 41: saving model to model_init_2023-08-1700_03_46.803863\\model-00041-0.15159-0.94872-1.94927-0.41667.h5\n",
      "17/17 [==============================] - 250s 15s/step - loss: 0.1516 - categorical_accuracy: 0.9487 - val_loss: 1.9493 - val_categorical_accuracy: 0.4167 - lr: 0.0010\n",
      "Epoch 42/50\n",
      "17/17 [==============================] - ETA: 0s - loss: 0.1537 - categorical_accuracy: 0.9427 \n",
      "Epoch 42: saving model to model_init_2023-08-1700_03_46.803863\\model-00042-0.15372-0.94268-1.00476-0.66667.h5\n",
      "17/17 [==============================] - 249s 15s/step - loss: 0.1537 - categorical_accuracy: 0.9427 - val_loss: 1.0048 - val_categorical_accuracy: 0.6667 - lr: 0.0010\n",
      "Epoch 43/50\n"
     ]
    },
    {
     "name": "stdout",
     "output_type": "stream",
     "text": [
      "17/17 [==============================] - ETA: 0s - loss: 0.1217 - categorical_accuracy: 0.9563 \n",
      "Epoch 43: saving model to model_init_2023-08-1700_03_46.803863\\model-00043-0.12165-0.95626-1.41102-0.41667.h5\n",
      "17/17 [==============================] - 252s 15s/step - loss: 0.1217 - categorical_accuracy: 0.9563 - val_loss: 1.4110 - val_categorical_accuracy: 0.4167 - lr: 0.0010\n",
      "Epoch 44/50\n",
      "17/17 [==============================] - ETA: 0s - loss: 0.1849 - categorical_accuracy: 0.9291 \n",
      "Epoch 44: saving model to model_init_2023-08-1700_03_46.803863\\model-00044-0.18493-0.92911-1.57179-0.50000.h5\n",
      "17/17 [==============================] - 248s 15s/step - loss: 0.1849 - categorical_accuracy: 0.9291 - val_loss: 1.5718 - val_categorical_accuracy: 0.5000 - lr: 0.0010\n",
      "Epoch 45/50\n",
      "17/17 [==============================] - ETA: 0s - loss: 0.1927 - categorical_accuracy: 0.9261 \n",
      "Epoch 45: saving model to model_init_2023-08-1700_03_46.803863\\model-00045-0.19273-0.92609-1.86577-0.58333.h5\n",
      "17/17 [==============================] - 247s 15s/step - loss: 0.1927 - categorical_accuracy: 0.9261 - val_loss: 1.8658 - val_categorical_accuracy: 0.5833 - lr: 0.0010\n",
      "Epoch 46/50\n",
      "17/17 [==============================] - ETA: 0s - loss: 0.1914 - categorical_accuracy: 0.9231 \n",
      "Epoch 46: saving model to model_init_2023-08-1700_03_46.803863\\model-00046-0.19139-0.92308-1.76296-0.58333.h5\n",
      "17/17 [==============================] - 249s 15s/step - loss: 0.1914 - categorical_accuracy: 0.9231 - val_loss: 1.7630 - val_categorical_accuracy: 0.5833 - lr: 0.0010\n",
      "Epoch 47/50\n",
      "17/17 [==============================] - ETA: 0s - loss: 0.1955 - categorical_accuracy: 0.9321 \n",
      "Epoch 47: saving model to model_init_2023-08-1700_03_46.803863\\model-00047-0.19547-0.93213-0.96591-0.75000.h5\n",
      "17/17 [==============================] - 279s 17s/step - loss: 0.1955 - categorical_accuracy: 0.9321 - val_loss: 0.9659 - val_categorical_accuracy: 0.7500 - lr: 0.0010\n",
      "Epoch 48/50\n",
      "17/17 [==============================] - ETA: 0s - loss: 0.1295 - categorical_accuracy: 0.9472 \n",
      "Epoch 48: saving model to model_init_2023-08-1700_03_46.803863\\model-00048-0.12947-0.94721-2.19252-0.50000.h5\n",
      "17/17 [==============================] - 265s 16s/step - loss: 0.1295 - categorical_accuracy: 0.9472 - val_loss: 2.1925 - val_categorical_accuracy: 0.5000 - lr: 0.0010\n",
      "Epoch 49/50\n",
      "17/17 [==============================] - ETA: 0s - loss: 0.0997 - categorical_accuracy: 0.9668 \n",
      "Epoch 49: saving model to model_init_2023-08-1700_03_46.803863\\model-00049-0.09965-0.96682-0.60252-0.83333.h5\n",
      "17/17 [==============================] - 251s 15s/step - loss: 0.0997 - categorical_accuracy: 0.9668 - val_loss: 0.6025 - val_categorical_accuracy: 0.8333 - lr: 0.0010\n",
      "Epoch 50/50\n",
      "17/17 [==============================] - ETA: 0s - loss: 0.1127 - categorical_accuracy: 0.9638 \n",
      "Epoch 50: saving model to model_init_2023-08-1700_03_46.803863\\model-00050-0.11275-0.96380-3.17916-0.50000.h5\n",
      "17/17 [==============================] - 258s 15s/step - loss: 0.1127 - categorical_accuracy: 0.9638 - val_loss: 3.1792 - val_categorical_accuracy: 0.5000 - lr: 0.0010\n"
     ]
    }
   ],
   "source": [
    "history = model.fit(train_generator, steps_per_epoch=steps_per_epoch, epochs=num_epochs, verbose=1, \n",
    "                    callbacks=callbacks_list, validation_data=val_generator, \n",
    "                    validation_steps=validation_steps, class_weight=None, workers=1, initial_epoch=0)"
   ]
  },
  {
   "cell_type": "code",
   "execution_count": 27,
   "metadata": {},
   "outputs": [
    {
     "data": {
      "text/plain": [
       "<matplotlib.legend.Legend at 0x1b516b405b0>"
      ]
     },
     "execution_count": 27,
     "metadata": {},
     "output_type": "execute_result"
    },
    {
     "data": {
      "image/png": "[encoded data removed]",
      "text/plain": [
       "<Figure size 2000x600 with 2 Axes>"
      ]
     },
     "metadata": {},
     "output_type": "display_data"
    }
   ],
   "source": [
    "import matplotlib.pyplot as plt\n",
    "%matplotlib inline\n",
    "\n",
    "plt.figure(figsize=(20,6))\n",
    "ax1 = plt.subplot(121)\n",
    "ax1 = plt.plot(history.history['loss'])\n",
    "ax1 = plt.plot(history.history['val_loss'])\n",
    "plt.title('model loss')\n",
    "plt.ylabel('loss')\n",
    "plt.xlabel('epoch')\n",
    "plt.legend(['train', 'validation'], loc='lower left')\n",
    "ax2 = plt.subplot(122)\n",
    "ax2 = plt.plot(history.history['categorical_accuracy'])\n",
    "ax2 = plt.plot(history.history['val_categorical_accuracy'])\n",
    "plt.title('model accuracy')\n",
    "plt.ylabel('categorical_accuracy')\n",
    "plt.xlabel('epoch')\n",
    "plt.legend(['train', 'validation'], loc='lower left')"
   ]
  },
  {
   "cell_type": "code",
   "execution_count": null,
   "metadata": {},
   "outputs": [],
   "source": []
  }
 ],
 "metadata": {
  "kernelspec": {
   "display_name": "Python 3 (ipykernel)",
   "language": "python",
   "name": "python3"
  },
  "language_info": {
   "codemirror_mode": {
    "name": "ipython",
    "version": 3
   },
   "file_extension": ".py",
   "mimetype": "text/x-python",
   "name": "python",
   "nbconvert_exporter": "python",
   "pygments_lexer": "ipython3",
   "version": "3.9.13"
  }
 },
 "nbformat": 4,
 "nbformat_minor": 4
}
